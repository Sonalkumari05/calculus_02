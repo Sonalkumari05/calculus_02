{
  "nbformat": 4,
  "nbformat_minor": 0,
  "metadata": {
    "colab": {
      "provenance": [],
      "authorship_tag": "ABX9TyPHqvIJA1Sdn93lTSR7kpbO",
      "include_colab_link": true
    },
    "kernelspec": {
      "name": "python3",
      "display_name": "Python 3"
    },
    "language_info": {
      "name": "python"
    }
  },
  "cells": [
    {
      "cell_type": "markdown",
      "metadata": {
        "id": "view-in-github",
        "colab_type": "text"
      },
      "source": [
        "<a href=\"https://colab.research.google.com/github/Sonalkumari05/calculus_02/blob/main/Linear_regression.ipynb\" target=\"_parent\"><img src=\"https://colab.research.google.com/assets/colab-badge.svg\" alt=\"Open In Colab\"/></a>"
      ]
    },
    {
      "cell_type": "code",
      "execution_count": 1,
      "metadata": {
        "id": "EARRRhTzMXh5"
      },
      "outputs": [],
      "source": [
        "# Importing required modules.\n",
        "import matplotlib.pyplot as plt\n",
        "import random\n",
        "import math\n",
        "import numpy as np"
      ]
    },
    {
      "cell_type": "code",
      "source": [
        "# Prompting user to enter required values.\n",
        "n = int(input(\"Enter the total number of experiment: \"))\n",
        "m = float(input(\"enter value of m: \"))\n",
        "c = float(input(\"enter value of c: \"))"
      ],
      "metadata": {
        "colab": {
          "base_uri": "https://localhost:8080/"
        },
        "id": "-6D9r7x9MbUU",
        "outputId": "e6f06593-0acc-40f5-ccd9-8f20fe2263ec"
      },
      "execution_count": 2,
      "outputs": [
        {
          "name": "stdout",
          "output_type": "stream",
          "text": [
            "Enter the total number of experiment: 6\n",
            "enter value of m: 1\n",
            "enter value of c: 5\n"
          ]
        }
      ]
    },
    {
      "cell_type": "code",
      "source": [
        "# Difining error function to calculate value of error.\n",
        "def error(alpha, n):\n",
        "    '''\n",
        "    Return: The list of custom error values.\n",
        "\n",
        "    Parameter alpha: It is the number to increase error.\n",
        "    Precondition: It must be a numeric.\n",
        "\n",
        "    Parameter n: It is the number of observation.\n",
        "    Precondition: It must be a numeric.\n",
        "    '''\n",
        "    error_list = []\n",
        "    for i in range(n):\n",
        "        error_list.append((random.random() - 0.5) * alpha)      # Centralised error about zero.\n",
        "    return error_list"
      ],
      "metadata": {
        "id": "2J9aFHtDMbgB"
      },
      "execution_count": 4,
      "outputs": []
    },
    {
      "cell_type": "code",
      "source": [
        "# Function to calculate value of slope and intercepts after minimising them.\n",
        "def minimised(x_list, y_list, n):\n",
        "    '''\n",
        "    Returns: The tuple of values of minimised slope(m) and intercept(c).\n",
        "\n",
        "    Parameter x_list: It is the list of values of x-axis on graph.\n",
        "    Precondition: It must be a list type containig numeric.\n",
        "\n",
        "    Parameter y_list: It is the list of values of x-axis on graph.\n",
        "    Precondition: It must be a list type containig numeric.\n",
        "\n",
        "    Parameter n: It is the number of observation.\n",
        "    Precondition: It must be a numeric.\n",
        "    '''\n",
        "    # difining variable to store values.\n",
        "    xy = 0\n",
        "    y = 0\n",
        "    x = 0\n",
        "    xSquare = 0\n",
        "    for i in range(n):\n",
        "        y += y_list[i]\n",
        "        x += x_list[i]\n",
        "        xSquare += x_list[i] ** 2\n",
        "        xy += x_list[i] * y_list[i]    \n",
        "    xyBar = xy / n\n",
        "    xBar = x / n\n",
        "    yBar = y / n\n",
        "    xSquareBar = xSquare / n\n",
        "    xBarSquare = xBar ** 2\n",
        "    # Calculating values of m and c using above terms in above mentoned formula for m and c.\n",
        "    m = (xyBar - xBar * yBar) / (xSquareBar - xBarSquare)\n",
        "    c = yBar - m * xBar\n",
        "    return m, c"
      ],
      "metadata": {
        "id": "eFOr-nmtMbpW"
      },
      "execution_count": 5,
      "outputs": []
    },
    {
      "cell_type": "code",
      "source": [
        "# x_list and y_list to plots for random values of m and c.\n",
        "x_list = [i / 10 for i in range(n)]\n",
        "alpha = 20        # Error manager.\n",
        "error_list = error(alpha, n)\n",
        "y_listExperiment = []\n",
        "for i in range(n):\n",
        "    # Using equation of straight line.\n",
        "    y_listExperiment.append(m * x_list[i] + c +error_list[i])"
      ],
      "metadata": {
        "id": "-2Jv-kY_Mbrz"
      },
      "execution_count": 6,
      "outputs": []
    },
    {
      "cell_type": "code",
      "source": [
        "# Value for plotting after minimising error.\n",
        "y_i_analytical = []\n",
        "newValues = minimised(x_list, y_listExperiment, n)\n",
        "m = newValues[0]\n",
        "c = newValues[1]\n",
        "for i in range(n):\n",
        "    # err = (random.random() - 0.5) * alpha\n",
        "    y_i_analytical.append(m * x_list[i] + c)"
      ],
      "metadata": {
        "id": "kxP05uAOMbug"
      },
      "execution_count": 7,
      "outputs": []
    },
    {
      "cell_type": "code",
      "source": [
        "# Command for drawing graphs.\n",
        "plt.scatter(x_list, y_listExperiment, label = 'Plot for choosen m and c')\n",
        "plt.plot(x_list, y_i_analytical, label = 'Linear Regression', color = 'red')\n",
        "plt.legend()\n",
        "plt.show()"
      ],
      "metadata": {
        "colab": {
          "base_uri": "https://localhost:8080/",
          "height": 430
        },
        "id": "AcaNsyp4MbyF",
        "outputId": "23d9f159-3625-47f7-8b50-21e2a4083541"
      },
      "execution_count": 8,
      "outputs": [
        {
          "output_type": "display_data",
          "data": {
            "text/plain": [
              "<Figure size 640x480 with 1 Axes>"
            ],
            "image/png": "[encoded data removed]"
          },
          "metadata": {}
        }
      ]
    }
  ]
}