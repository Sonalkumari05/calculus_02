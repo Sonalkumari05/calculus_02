{
  "nbformat": 4,
  "nbformat_minor": 0,
  "metadata": {
    "colab": {
      "provenance": [],
      "include_colab_link": true
    },
    "kernelspec": {
      "name": "python3",
      "display_name": "Python 3"
    },
    "language_info": {
      "name": "python"
    }
  },
  "cells": [
    {
      "cell_type": "markdown",
      "metadata": {
        "id": "view-in-github",
        "colab_type": "text"
      },
      "source": [
        "<a href=\"https://colab.research.google.com/github/Sonalkumari05/calculus_02/blob/main/Sonal_Damping.ipynb\" target=\"_parent\"><img src=\"https://colab.research.google.com/assets/colab-badge.svg\" alt=\"Open In Colab\"/></a>"
      ]
    },
    {
      "cell_type": "code",
      "source": [
        "# In this program we use both plotly as well as metplot."
      ],
      "metadata": {
        "id": "WG3qBBuKooF2"
      },
      "execution_count": null,
      "outputs": []
    },
    {
      "cell_type": "code",
      "source": [
        "pip install metaplot"
      ],
      "metadata": {
        "colab": {
          "base_uri": "https://localhost:8080/"
        },
        "id": "g26vEWdOnMyO",
        "outputId": "ee2c1ea6-056f-439a-a4e4-6f6b383dda8c"
      },
      "execution_count": null,
      "outputs": [
        {
          "output_type": "stream",
          "name": "stdout",
          "text": [
            "Looking in indexes: https://pypi.org/simple, https://us-python.pkg.dev/colab-wheels/public/simple/\n",
            "Requirement already satisfied: metaplot in /usr/local/lib/python3.8/dist-packages (1.1.0)\n",
            "Requirement already satisfied: numpy in /usr/local/lib/python3.8/dist-packages (from metaplot) (1.22.4)\n",
            "Requirement already satisfied: matplotlib in /usr/local/lib/python3.8/dist-packages (from metaplot) (3.5.3)\n",
            "Requirement already satisfied: pint in /usr/local/lib/python3.8/dist-packages (from metaplot) (0.20.1)\n",
            "Requirement already satisfied: python-dateutil>=2.7 in /usr/local/lib/python3.8/dist-packages (from matplotlib->metaplot) (2.8.2)\n",
            "Requirement already satisfied: cycler>=0.10 in /usr/local/lib/python3.8/dist-packages (from matplotlib->metaplot) (0.11.0)\n",
            "Requirement already satisfied: pyparsing>=2.2.1 in /usr/local/lib/python3.8/dist-packages (from matplotlib->metaplot) (3.0.9)\n",
            "Requirement already satisfied: packaging>=20.0 in /usr/local/lib/python3.8/dist-packages (from matplotlib->metaplot) (23.0)\n",
            "Requirement already satisfied: fonttools>=4.22.0 in /usr/local/lib/python3.8/dist-packages (from matplotlib->metaplot) (4.38.0)\n",
            "Requirement already satisfied: pillow>=6.2.0 in /usr/local/lib/python3.8/dist-packages (from matplotlib->metaplot) (8.4.0)\n",
            "Requirement already satisfied: kiwisolver>=1.0.1 in /usr/local/lib/python3.8/dist-packages (from matplotlib->metaplot) (1.4.4)\n",
            "Requirement already satisfied: six>=1.5 in /usr/local/lib/python3.8/dist-packages (from python-dateutil>=2.7->matplotlib->metaplot) (1.15.0)\n"
          ]
        }
      ]
    },
    {
      "cell_type": "code",
      "execution_count": null,
      "metadata": {
        "id": "IMZ9PTcJjrCM"
      },
      "outputs": [],
      "source": [
        "import math\n",
        "import plotly.express as px\n",
        "import matplotlib.pyplot as plt\n",
        "# A=float(input(\"enter A:\"))\n",
        "# B=float(input(\"enter B:\"))\n",
        "# C=float(input(\"enter C:\"))\n",
        "# x0=float(input(\"enter x0:\"))\n",
        "# v0=float(input(\"enter v0:\"))"
      ]
    },
    {
      "cell_type": "code",
      "source": [
        "#this is for critically damped case\n",
        "A=1\n",
        "B=2\n",
        "C=1\n",
        "x0=10\n",
        "v0=10"
      ],
      "metadata": {
        "id": "MtlZ78l3j5NQ"
      },
      "execution_count": null,
      "outputs": []
    },
    {
      "cell_type": "code",
      "source": [
        "alpha=-B/(2*A)\n",
        "bita=abs((((B**2)/4)-C/A)**1/2)\n",
        "lambda1=(-B-(B*2-4*A*C)*0.5)/2*A\n",
        "lambda2=(-B+(B*2-4*A*C)*0.5)/2*A\n",
        "lambda3=-B/(2*A)\n",
        "if lambda1 != lambda2 :\n",
        "\n",
        "\td1=(v0-lambda2*x0)/(lambda1-lambda2)\n",
        "\td2=(v0-lambda1*x0)/(lambda2-lambda1)\n",
        "t=0\n",
        "t1=[i/10 for i in range(100)]         # Time list"
      ],
      "metadata": {
        "id": "RO9jjn_xkeOF"
      },
      "execution_count": null,
      "outputs": []
    },
    {
      "cell_type": "code",
      "source": [
        "def critically_damped():\n",
        "\t\"\"\"\n",
        "\treturns a list of roots of critically damping equation \n",
        "\t\"\"\"\n",
        "\tx1 = []                             # Accumalator\n",
        "\tfor i in t1:\n",
        "\t\tt=i\n",
        "\t\tx = math.exp( - B * t / (2 * A)) * (x0 + (v0 - lambda1 * x0) * t)\n",
        "\t\tx1.append(x)\n",
        "\treturn x1\n"
      ],
      "metadata": {
        "id": "l0I0wO_0p7Si"
      },
      "execution_count": null,
      "outputs": []
    },
    {
      "cell_type": "code",
      "source": [
        "def about_damped():\n",
        "\t\"\"\"\n",
        "\tReturns the kind of damping that is weather it is over damped, critically damped or under damped\n",
        "\t\"\"\"\n",
        "\tif B**2-4*A*C > 0:\n",
        "\t\tprint(\"over damped\")\n",
        "\t\treturn over_damped()\n",
        "\telif B**2-4*A*C == 0:\n",
        "\t\tprint(\"critically damped\")\n",
        "\t\treturn critically_damped()\n",
        "\telif B**2-4*A*C < 0:\n",
        "\t\tprint(\"under damped\")\n",
        "\t\treturn under_damped()"
      ],
      "metadata": {
        "id": "chgPSHBjrivE"
      },
      "execution_count": null,
      "outputs": []
    },
    {
      "cell_type": "code",
      "source": [
        "fig=px.line(x=t1,y=about_damped())\n",
        "fig.show()\n",
        "print('critical damping')"
      ],
      "metadata": {
        "id": "vf4f4oJ1sSYv",
        "outputId": "af76f55a-7b17-437c-c750-58749a14e70f",
        "colab": {
          "base_uri": "https://localhost:8080/",
          "height": 577
        }
      },
      "execution_count": null,
      "outputs": [
        {
          "output_type": "stream",
          "name": "stdout",
          "text": [
            "critically damped\n"
          ]
        },
        {
          "output_type": "display_data",
          "data": {
            "text/html": [
              "<html>\n",
              "<head><meta charset=\"utf-8\" /></head>\n",
              "<body>\n",
              "    <div>            <script src=\"https://cdnjs.cloudflare.com/ajax/libs/mathjax/2.7.5/MathJax.js?config=TeX-AMS-MML_SVG\"></script><script type=\"text/javascript\">if (window.MathJax) {MathJax.Hub.Config({SVG: {font: \"STIX-Web\"}});}</script>                <script type=\"text/javascript\">window.PlotlyConfig = {MathJaxConfig: 'local'};</script>\n",
              "        <script src=\"https://cdn.plot.ly/plotly-2.8.3.min.js\"></script>                <div id=\"8ec3fb86-c553-4a7f-9483-9d4cb8ec8e58\" class=\"plotly-graph-div\" style=\"height:525px; width:100%;\"></div>            <script type=\"text/javascript\">                                    window.PLOTLYENV=window.PLOTLYENV || {};                                    if (document.getElementById(\"8ec3fb86-c553-4a7f-9483-9d4cb8ec8e58\")) {                    Plotly.newPlot(                        \"8ec3fb86-c553-4a7f-9483-9d4cb8ec8e58\",                        [{\"hovertemplate\":\"x=%{x}<br>y=%{y}<extra></extra>\",\"legendgroup\":\"\",\"line\":{\"color\":\"#636efa\",\"dash\":\"solid\"},\"marker\":{\"symbol\":\"circle\"},\"mode\":\"lines\",\"name\":\"\",\"orientation\":\"v\",\"showlegend\":false,\"x\":[0.0,0.1,0.2,0.3,0.4,0.5,0.6,0.7,0.8,0.9,1.0,1.1,1.2,1.3,1.4,1.5,1.6,1.7,1.8,1.9,2.0,2.1,2.2,2.3,2.4,2.5,2.6,2.7,2.8,2.9,3.0,3.1,3.2,3.3,3.4,3.5,3.6,3.7,3.8,3.9,4.0,4.1,4.2,4.3,4.4,4.5,4.6,4.7,4.8,4.9,5.0,5.1,5.2,5.3,5.4,5.5,5.6,5.7,5.8,5.9,6.0,6.1,6.2,6.3,6.4,6.5,6.6,6.7,6.8,6.9,7.0,7.1,7.2,7.3,7.4,7.5,7.6,7.7,7.8,7.9,8.0,8.1,8.2,8.3,8.4,8.5,8.6,8.7,8.8,8.9,9.0,9.1,9.2,9.3,9.4,9.5,9.6,9.7,9.8,9.9],\"xaxis\":\"x\",\"y\":[10.0,10.858049016431515,11.462230543091746,11.853091530907486,12.065760828641508,12.130613194252668,12.07385599406858,11.91804729099383,11.68255306704776,11.383950472736775,11.03638323514327,10.651874678338546,10.240603205014873,9.811144549224453,9.370684629781046,8.925206405937192,8.479653755775526,8.038075058320326,7.60374885819298,7.179293722686483,6.766764161830635,6.367734269155059,5.983370551566029,5.614495248477009,5.261641290785926,4.925099917433928,4.6049618492887,4.301152815343984,4.013464133264386,3.7415789638356918,3.485094785750476,3.2435425723361617,3.0164030943990996,2.803120722494241,2.603115056905434,2.41579067378548,2.24054524067799,2.0767762235085088,1.9238863796302417,1.7812882072307865,1.648407499986076,1.5246861369620355,1.4095842211249041,1.3025816651712896,1.2031793105007067,1.1108996538242306,1.0252872459526259,0.9459088185763648,0.8723531871961232,0.8042309716598285,0.7411741698994013,0.6828356153377515,0.628888343966728,0.5790248932015851,0.5329565512282946,0.490412572615688,0.4511393734109177,0.4148997167264377,0.38147189791735275,0.35064893680235115,0.3222377829666266,0.29605853897212603,0.2719437052636284,0.24973744967593137,0.22929490369800287,0.21048148701686012,0.19317226133180093,0.17725131398498126,0.16261117158534127,0.14915224349917955,0.13678229483317744,0.1254159483364175,0.1149742144900086,0.10538404893023973,0.09657793625847243,0.08849349922365338,0.08107313221737895,0.0742636579934347,0.06801600651064461,0.06228491479712682,0.05702864674342702,0.052208731749565085,0.0477897211751528,0.043738961570999525,0.04002638370383498,0.03662430642191595,0.03350725444749941,0.03065178922172457,0.02803635196775863,0.025641118178618142,0.023447862776469118,0.02143983523010204,0.019601643956396124,0.01791914936972196,0.016379364980213182,0.01497036597754012,0.013681204771152488,0.012501832990857316,0.01142302948302845,0.010436333867684458],\"yaxis\":\"y\",\"type\":\"scatter\"}],                        {\"template\":{\"data\":{\"bar\":[{\"error_x\":{\"color\":\"#2a3f5f\"},\"error_y\":{\"color\":\"#2a3f5f\"},\"marker\":{\"line\":{\"color\":\"#E5ECF6\",\"width\":0.5},\"pattern\":{\"fillmode\":\"overlay\",\"size\":10,\"solidity\":0.2}},\"type\":\"bar\"}],\"barpolar\":[{\"marker\":{\"line\":{\"color\":\"#E5ECF6\",\"width\":0.5},\"pattern\":{\"fillmode\":\"overlay\",\"size\":10,\"solidity\":0.2}},\"type\":\"barpolar\"}],\"carpet\":[{\"aaxis\":{\"endlinecolor\":\"#2a3f5f\",\"gridcolor\":\"white\",\"linecolor\":\"white\",\"minorgridcolor\":\"white\",\"startlinecolor\":\"#2a3f5f\"},\"baxis\":{\"endlinecolor\":\"#2a3f5f\",\"gridcolor\":\"white\",\"linecolor\":\"white\",\"minorgridcolor\":\"white\",\"startlinecolor\":\"#2a3f5f\"},\"type\":\"carpet\"}],\"choropleth\":[{\"colorbar\":{\"outlinewidth\":0,\"ticks\":\"\"},\"type\":\"choropleth\"}],\"contour\":[{\"colorbar\":{\"outlinewidth\":0,\"ticks\":\"\"},\"colorscale\":[[0.0,\"#0d0887\"],[0.1111111111111111,\"#46039f\"],[0.2222222222222222,\"#7201a8\"],[0.3333333333333333,\"#9c179e\"],[0.4444444444444444,\"#bd3786\"],[0.5555555555555556,\"#d8576b\"],[0.6666666666666666,\"#ed7953\"],[0.7777777777777778,\"#fb9f3a\"],[0.8888888888888888,\"#fdca26\"],[1.0,\"#f0f921\"]],\"type\":\"contour\"}],\"contourcarpet\":[{\"colorbar\":{\"outlinewidth\":0,\"ticks\":\"\"},\"type\":\"contourcarpet\"}],\"heatmap\":[{\"colorbar\":{\"outlinewidth\":0,\"ticks\":\"\"},\"colorscale\":[[0.0,\"#0d0887\"],[0.1111111111111111,\"#46039f\"],[0.2222222222222222,\"#7201a8\"],[0.3333333333333333,\"#9c179e\"],[0.4444444444444444,\"#bd3786\"],[0.5555555555555556,\"#d8576b\"],[0.6666666666666666,\"#ed7953\"],[0.7777777777777778,\"#fb9f3a\"],[0.8888888888888888,\"#fdca26\"],[1.0,\"#f0f921\"]],\"type\":\"heatmap\"}],\"heatmapgl\":[{\"colorbar\":{\"outlinewidth\":0,\"ticks\":\"\"},\"colorscale\":[[0.0,\"#0d0887\"],[0.1111111111111111,\"#46039f\"],[0.2222222222222222,\"#7201a8\"],[0.3333333333333333,\"#9c179e\"],[0.4444444444444444,\"#bd3786\"],[0.5555555555555556,\"#d8576b\"],[0.6666666666666666,\"#ed7953\"],[0.7777777777777778,\"#fb9f3a\"],[0.8888888888888888,\"#fdca26\"],[1.0,\"#f0f921\"]],\"type\":\"heatmapgl\"}],\"histogram\":[{\"marker\":{\"pattern\":{\"fillmode\":\"overlay\",\"size\":10,\"solidity\":0.2}},\"type\":\"histogram\"}],\"histogram2d\":[{\"colorbar\":{\"outlinewidth\":0,\"ticks\":\"\"},\"colorscale\":[[0.0,\"#0d0887\"],[0.1111111111111111,\"#46039f\"],[0.2222222222222222,\"#7201a8\"],[0.3333333333333333,\"#9c179e\"],[0.4444444444444444,\"#bd3786\"],[0.5555555555555556,\"#d8576b\"],[0.6666666666666666,\"#ed7953\"],[0.7777777777777778,\"#fb9f3a\"],[0.8888888888888888,\"#fdca26\"],[1.0,\"#f0f921\"]],\"type\":\"histogram2d\"}],\"histogram2dcontour\":[{\"colorbar\":{\"outlinewidth\":0,\"ticks\":\"\"},\"colorscale\":[[0.0,\"#0d0887\"],[0.1111111111111111,\"#46039f\"],[0.2222222222222222,\"#7201a8\"],[0.3333333333333333,\"#9c179e\"],[0.4444444444444444,\"#bd3786\"],[0.5555555555555556,\"#d8576b\"],[0.6666666666666666,\"#ed7953\"],[0.7777777777777778,\"#fb9f3a\"],[0.8888888888888888,\"#fdca26\"],[1.0,\"#f0f921\"]],\"type\":\"histogram2dcontour\"}],\"mesh3d\":[{\"colorbar\":{\"outlinewidth\":0,\"ticks\":\"\"},\"type\":\"mesh3d\"}],\"parcoords\":[{\"line\":{\"colorbar\":{\"outlinewidth\":0,\"ticks\":\"\"}},\"type\":\"parcoords\"}],\"pie\":[{\"automargin\":true,\"type\":\"pie\"}],\"scatter\":[{\"marker\":{\"colorbar\":{\"outlinewidth\":0,\"ticks\":\"\"}},\"type\":\"scatter\"}],\"scatter3d\":[{\"line\":{\"colorbar\":{\"outlinewidth\":0,\"ticks\":\"\"}},\"marker\":{\"colorbar\":{\"outlinewidth\":0,\"ticks\":\"\"}},\"type\":\"scatter3d\"}],\"scattercarpet\":[{\"marker\":{\"colorbar\":{\"outlinewidth\":0,\"ticks\":\"\"}},\"type\":\"scattercarpet\"}],\"scattergeo\":[{\"marker\":{\"colorbar\":{\"outlinewidth\":0,\"ticks\":\"\"}},\"type\":\"scattergeo\"}],\"scattergl\":[{\"marker\":{\"colorbar\":{\"outlinewidth\":0,\"ticks\":\"\"}},\"type\":\"scattergl\"}],\"scattermapbox\":[{\"marker\":{\"colorbar\":{\"outlinewidth\":0,\"ticks\":\"\"}},\"type\":\"scattermapbox\"}],\"scatterpolar\":[{\"marker\":{\"colorbar\":{\"outlinewidth\":0,\"ticks\":\"\"}},\"type\":\"scatterpolar\"}],\"scatterpolargl\":[{\"marker\":{\"colorbar\":{\"outlinewidth\":0,\"ticks\":\"\"}},\"type\":\"scatterpolargl\"}],\"scatterternary\":[{\"marker\":{\"colorbar\":{\"outlinewidth\":0,\"ticks\":\"\"}},\"type\":\"scatterternary\"}],\"surface\":[{\"colorbar\":{\"outlinewidth\":0,\"ticks\":\"\"},\"colorscale\":[[0.0,\"#0d0887\"],[0.1111111111111111,\"#46039f\"],[0.2222222222222222,\"#7201a8\"],[0.3333333333333333,\"#9c179e\"],[0.4444444444444444,\"#bd3786\"],[0.5555555555555556,\"#d8576b\"],[0.6666666666666666,\"#ed7953\"],[0.7777777777777778,\"#fb9f3a\"],[0.8888888888888888,\"#fdca26\"],[1.0,\"#f0f921\"]],\"type\":\"surface\"}],\"table\":[{\"cells\":{\"fill\":{\"color\":\"#EBF0F8\"},\"line\":{\"color\":\"white\"}},\"header\":{\"fill\":{\"color\":\"#C8D4E3\"},\"line\":{\"color\":\"white\"}},\"type\":\"table\"}]},\"layout\":{\"annotationdefaults\":{\"arrowcolor\":\"#2a3f5f\",\"arrowhead\":0,\"arrowwidth\":1},\"autotypenumbers\":\"strict\",\"coloraxis\":{\"colorbar\":{\"outlinewidth\":0,\"ticks\":\"\"}},\"colorscale\":{\"diverging\":[[0,\"#8e0152\"],[0.1,\"#c51b7d\"],[0.2,\"#de77ae\"],[0.3,\"#f1b6da\"],[0.4,\"#fde0ef\"],[0.5,\"#f7f7f7\"],[0.6,\"#e6f5d0\"],[0.7,\"#b8e186\"],[0.8,\"#7fbc41\"],[0.9,\"#4d9221\"],[1,\"#276419\"]],\"sequential\":[[0.0,\"#0d0887\"],[0.1111111111111111,\"#46039f\"],[0.2222222222222222,\"#7201a8\"],[0.3333333333333333,\"#9c179e\"],[0.4444444444444444,\"#bd3786\"],[0.5555555555555556,\"#d8576b\"],[0.6666666666666666,\"#ed7953\"],[0.7777777777777778,\"#fb9f3a\"],[0.8888888888888888,\"#fdca26\"],[1.0,\"#f0f921\"]],\"sequentialminus\":[[0.0,\"#0d0887\"],[0.1111111111111111,\"#46039f\"],[0.2222222222222222,\"#7201a8\"],[0.3333333333333333,\"#9c179e\"],[0.4444444444444444,\"#bd3786\"],[0.5555555555555556,\"#d8576b\"],[0.6666666666666666,\"#ed7953\"],[0.7777777777777778,\"#fb9f3a\"],[0.8888888888888888,\"#fdca26\"],[1.0,\"#f0f921\"]]},\"colorway\":[\"#636efa\",\"#EF553B\",\"#00cc96\",\"#ab63fa\",\"#FFA15A\",\"#19d3f3\",\"#FF6692\",\"#B6E880\",\"#FF97FF\",\"#FECB52\"],\"font\":{\"color\":\"#2a3f5f\"},\"geo\":{\"bgcolor\":\"white\",\"lakecolor\":\"white\",\"landcolor\":\"#E5ECF6\",\"showlakes\":true,\"showland\":true,\"subunitcolor\":\"white\"},\"hoverlabel\":{\"align\":\"left\"},\"hovermode\":\"closest\",\"mapbox\":{\"style\":\"light\"},\"paper_bgcolor\":\"white\",\"plot_bgcolor\":\"#E5ECF6\",\"polar\":{\"angularaxis\":{\"gridcolor\":\"white\",\"linecolor\":\"white\",\"ticks\":\"\"},\"bgcolor\":\"#E5ECF6\",\"radialaxis\":{\"gridcolor\":\"white\",\"linecolor\":\"white\",\"ticks\":\"\"}},\"scene\":{\"xaxis\":{\"backgroundcolor\":\"#E5ECF6\",\"gridcolor\":\"white\",\"gridwidth\":2,\"linecolor\":\"white\",\"showbackground\":true,\"ticks\":\"\",\"zerolinecolor\":\"white\"},\"yaxis\":{\"backgroundcolor\":\"#E5ECF6\",\"gridcolor\":\"white\",\"gridwidth\":2,\"linecolor\":\"white\",\"showbackground\":true,\"ticks\":\"\",\"zerolinecolor\":\"white\"},\"zaxis\":{\"backgroundcolor\":\"#E5ECF6\",\"gridcolor\":\"white\",\"gridwidth\":2,\"linecolor\":\"white\",\"showbackground\":true,\"ticks\":\"\",\"zerolinecolor\":\"white\"}},\"shapedefaults\":{\"line\":{\"color\":\"#2a3f5f\"}},\"ternary\":{\"aaxis\":{\"gridcolor\":\"white\",\"linecolor\":\"white\",\"ticks\":\"\"},\"baxis\":{\"gridcolor\":\"white\",\"linecolor\":\"white\",\"ticks\":\"\"},\"bgcolor\":\"#E5ECF6\",\"caxis\":{\"gridcolor\":\"white\",\"linecolor\":\"white\",\"ticks\":\"\"}},\"title\":{\"x\":0.05},\"xaxis\":{\"automargin\":true,\"gridcolor\":\"white\",\"linecolor\":\"white\",\"ticks\":\"\",\"title\":{\"standoff\":15},\"zerolinecolor\":\"white\",\"zerolinewidth\":2},\"yaxis\":{\"automargin\":true,\"gridcolor\":\"white\",\"linecolor\":\"white\",\"ticks\":\"\",\"title\":{\"standoff\":15},\"zerolinecolor\":\"white\",\"zerolinewidth\":2}}},\"xaxis\":{\"anchor\":\"y\",\"domain\":[0.0,1.0],\"title\":{\"text\":\"x\"}},\"yaxis\":{\"anchor\":\"x\",\"domain\":[0.0,1.0],\"title\":{\"text\":\"y\"}},\"legend\":{\"tracegroupgap\":0},\"margin\":{\"t\":60}},                        {\"responsive\": true}                    ).then(function(){\n",
              "                            \n",
              "var gd = document.getElementById('8ec3fb86-c553-4a7f-9483-9d4cb8ec8e58');\n",
              "var x = new MutationObserver(function (mutations, observer) {{\n",
              "        var display = window.getComputedStyle(gd).display;\n",
              "        if (!display || display === 'none') {{\n",
              "            console.log([gd, 'removed!']);\n",
              "            Plotly.purge(gd);\n",
              "            observer.disconnect();\n",
              "        }}\n",
              "}});\n",
              "\n",
              "// Listen for the removal of the full notebook cells\n",
              "var notebookContainer = gd.closest('#notebook-container');\n",
              "if (notebookContainer) {{\n",
              "    x.observe(notebookContainer, {childList: true});\n",
              "}}\n",
              "\n",
              "// Listen for the clearing of the current output cell\n",
              "var outputEl = gd.closest('.output');\n",
              "if (outputEl) {{\n",
              "    x.observe(outputEl, {childList: true});\n",
              "}}\n",
              "\n",
              "                        })                };                            </script>        </div>\n",
              "</body>\n",
              "</html>"
            ]
          },
          "metadata": {}
        },
        {
          "output_type": "stream",
          "name": "stdout",
          "text": [
            "critical damping\n"
          ]
        }
      ]
    },
    {
      "cell_type": "code",
      "source": [
        "plt.plot(t1, about_damped())\n",
        "plt.show()"
      ],
      "metadata": {
        "colab": {
          "base_uri": "https://localhost:8080/",
          "height": 282
        },
        "id": "wazDlbIKno_C",
        "outputId": "53cd3320-2a8f-4457-f72a-05158fb62dd6"
      },
      "execution_count": null,
      "outputs": [
        {
          "output_type": "stream",
          "name": "stdout",
          "text": [
            "critically damped\n"
          ]
        },
        {
          "output_type": "display_data",
          "data": {
            "text/plain": [
              "<Figure size 432x288 with 1 Axes>"
            ],
            "image/png": "[encoded data removed]"
          },
          "metadata": {
            "needs_background": "light"
          }
        }
      ]
    },
    {
      "cell_type": "code",
      "source": [
        "#this is for over damped case\n",
        "A=1\n",
        "B=19\n",
        "C=90\n",
        "x0=1\n",
        "v0=100"
      ],
      "metadata": {
        "id": "GD_Ls_iKuBh8"
      },
      "execution_count": null,
      "outputs": []
    },
    {
      "cell_type": "code",
      "source": [
        "alpha=B/(2*A)\n",
        "bita=abs((((B**2)/4)-C/A)**1/2)\n",
        "lambda1=(-B-(B*2-4*A*C)*0.5)/2*A\n",
        "lambda2=(-B+(B*2-4*A*C)*0.5)/2*A\n",
        "lambda3=-B/(2*A)\n",
        "if lambda1 != lambda2 :\n",
        "\n",
        "\td1=(v0-lambda2*x0)/(lambda1-lambda2)\n",
        "\td2=(v0-lambda1*x0)/(lambda2-lambda1)\n",
        "t=0\n",
        "t1=[i/100 for i in range(100)]"
      ],
      "metadata": {
        "id": "h5BcDuJcuO40"
      },
      "execution_count": null,
      "outputs": []
    },
    {
      "cell_type": "code",
      "source": [
        "def over_damped():\n",
        "\t\"\"\"\n",
        "\treturns a list of roots of over damping equation\n",
        "\t\"\"\"\n",
        "\tx1 = []\n",
        "\tfor i in t1:\n",
        "\t\tt=i\n",
        "\t\td1 = (v0 - x0*lambda1) / (lambda1 - lambda2)\n",
        "\t\td2 = (v0 - x0*lambda2) / (lambda2 - lambda1)\n",
        "\t\tx = (d1 * math.exp(( - alpha + bita) * t) + d2 * math.exp(( - alpha - bita) * t))\n",
        "\t\tx1.append(x)\n",
        "\treturn x1"
      ],
      "metadata": {
        "id": "Kg2Nknhducpn"
      },
      "execution_count": null,
      "outputs": []
    },
    {
      "cell_type": "code",
      "source": [
        "fig=px.line(x=t1,y=about_damped())\n",
        "fig.show()\n",
        "print('over damping')\n",
        "plt.plot(t1, about_damped())\n",
        "plt.show()"
      ],
      "metadata": {
        "id": "SJecLUOpu3dS",
        "outputId": "6f62100f-61e1-4ee7-e53e-e67474ab20ce",
        "colab": {
          "base_uri": "https://localhost:8080/",
          "height": 842
        }
      },
      "execution_count": null,
      "outputs": [
        {
          "output_type": "stream",
          "name": "stdout",
          "text": [
            "over damped\n"
          ]
        },
        {
          "output_type": "display_data",
          "data": {
            "text/html": [
              "<html>\n",
              "<head><meta charset=\"utf-8\" /></head>\n",
              "<body>\n",
              "    <div>            <script src=\"https://cdnjs.cloudflare.com/ajax/libs/mathjax/2.7.5/MathJax.js?config=TeX-AMS-MML_SVG\"></script><script type=\"text/javascript\">if (window.MathJax) {MathJax.Hub.Config({SVG: {font: \"STIX-Web\"}});}</script>                <script type=\"text/javascript\">window.PlotlyConfig = {MathJaxConfig: 'local'};</script>\n",
              "        <script src=\"https://cdn.plot.ly/plotly-2.8.3.min.js\"></script>                <div id=\"e431a634-0d65-47f7-bc9e-a54d81c82f1f\" class=\"plotly-graph-div\" style=\"height:525px; width:100%;\"></div>            <script type=\"text/javascript\">                                    window.PLOTLYENV=window.PLOTLYENV || {};                                    if (document.getElementById(\"e431a634-0d65-47f7-bc9e-a54d81c82f1f\")) {                    Plotly.newPlot(                        \"e431a634-0d65-47f7-bc9e-a54d81c82f1f\",                        [{\"hovertemplate\":\"x=%{x}<br>y=%{y}<extra></extra>\",\"legendgroup\":\"\",\"line\":{\"color\":\"#636efa\",\"dash\":\"solid\"},\"marker\":{\"symbol\":\"circle\"},\"mode\":\"lines\",\"name\":\"\",\"orientation\":\"v\",\"showlegend\":false,\"x\":[0.0,0.01,0.02,0.03,0.04,0.05,0.06,0.07,0.08,0.09,0.1,0.11,0.12,0.13,0.14,0.15,0.16,0.17,0.18,0.19,0.2,0.21,0.22,0.23,0.24,0.25,0.26,0.27,0.28,0.29,0.3,0.31,0.32,0.33,0.34,0.35,0.36,0.37,0.38,0.39,0.4,0.41,0.42,0.43,0.44,0.45,0.46,0.47,0.48,0.49,0.5,0.51,0.52,0.53,0.54,0.55,0.56,0.57,0.58,0.59,0.6,0.61,0.62,0.63,0.64,0.65,0.66,0.67,0.68,0.69,0.7,0.71,0.72,0.73,0.74,0.75,0.76,0.77,0.78,0.79,0.8,0.81,0.82,0.83,0.84,0.85,0.86,0.87,0.88,0.89,0.9,0.91,0.92,0.93,0.94,0.95,0.96,0.97,0.98,0.99],\"xaxis\":\"x\",\"y\":[-1.0,-0.9078274281107175,-0.8241495405680312,-0.7481835596038086,-0.6792188310182203,-0.6166101796365232,-0.5597718768398112,-0.5081721637936191,-0.4613282791903348,-0.41880194503532053,-0.380195268286479,-0.34514702004272557,-0.3133292575046981,-0.2844442571340333,-0.25822173034555734,-0.2344162957069521,-0.21280518401752388,-0.19318615481400914,-0.17537560482722758,-0.15920685070730162,-0.14452856996385263,-0.13120338554627076,-0.11910658083166399,-0.10812493300694694,-0.098155653938128,-0.08910542862453513,-0.08088954224786063,-0.07343108765403837,-0.06666024585782213,-0.06051363284253662,-0.054933706547207396,-0.04986822849592131,-0.04526977503509531,-0.04109529360810071,-0.03730569991774436,-0.03386551220937498,-0.030742519254439604,-0.02790747892940264,-0.02533384457100221,-0.022997516548530363,-0.020876616729611167,-0.01895128373001793,-0.01720348703241793,-0.015616858235377054,-0.014176537854146149,-0.012869036240183394,-0.011682107318401507,-0.010604633960999862,-0.009626523925568646,-0.008738615383954706,-0.007932591158077292,-0.007200900860317908,-0.006536690210040727,-0.005933736864921492,-0.005386392166700015,-0.004889528256293928,-0.004438490063437314,-0.004029051721605826,-0.0036573770003866307,-0.003319983385034388,-0.003013709467073994,-0.0027356853407870464,-0.0024833057285407615,-0.002254205583448632,-0.0020462379410303806,-0.0018574538125811536,-0.0016860839320632945,-0.0015305221856772501,-0.00138931056901315,-0.0012611255309786643,-0.0011447655766757322,-0.0010391400131798134,-0.0009432587328706888,-0.000856222938673725,-0.0007772167243854494,-0.0007054994312599651,-0.0006403987092978904,-0.0005813042182750833,-0.0005276619095362036,-0.0004789688350140869,-0.0004347684348708339,-0.0003946462596366568,-0.000358226086789754,-0.00032516639541281945,-0.0002951571659138852,-0.0002679169748422602,-0.00024319035759298746,-0.00022074541430120532,-0.0002003716365046538,-0.0001818779342195203,-0.00016509084495126678,-0.00014985290786558524,-0.00013602118789107906,-0.00012346593592919115,-0.00011206937262141613,-0.00010172458428084662,-9.233452064547979e-05,-8.381108506425278e-05,-7.60743085924156e-05,-6.905160025870015e-05],\"yaxis\":\"y\",\"type\":\"scatter\"}],                        {\"template\":{\"data\":{\"bar\":[{\"error_x\":{\"color\":\"#2a3f5f\"},\"error_y\":{\"color\":\"#2a3f5f\"},\"marker\":{\"line\":{\"color\":\"#E5ECF6\",\"width\":0.5},\"pattern\":{\"fillmode\":\"overlay\",\"size\":10,\"solidity\":0.2}},\"type\":\"bar\"}],\"barpolar\":[{\"marker\":{\"line\":{\"color\":\"#E5ECF6\",\"width\":0.5},\"pattern\":{\"fillmode\":\"overlay\",\"size\":10,\"solidity\":0.2}},\"type\":\"barpolar\"}],\"carpet\":[{\"aaxis\":{\"endlinecolor\":\"#2a3f5f\",\"gridcolor\":\"white\",\"linecolor\":\"white\",\"minorgridcolor\":\"white\",\"startlinecolor\":\"#2a3f5f\"},\"baxis\":{\"endlinecolor\":\"#2a3f5f\",\"gridcolor\":\"white\",\"linecolor\":\"white\",\"minorgridcolor\":\"white\",\"startlinecolor\":\"#2a3f5f\"},\"type\":\"carpet\"}],\"choropleth\":[{\"colorbar\":{\"outlinewidth\":0,\"ticks\":\"\"},\"type\":\"choropleth\"}],\"contour\":[{\"colorbar\":{\"outlinewidth\":0,\"ticks\":\"\"},\"colorscale\":[[0.0,\"#0d0887\"],[0.1111111111111111,\"#46039f\"],[0.2222222222222222,\"#7201a8\"],[0.3333333333333333,\"#9c179e\"],[0.4444444444444444,\"#bd3786\"],[0.5555555555555556,\"#d8576b\"],[0.6666666666666666,\"#ed7953\"],[0.7777777777777778,\"#fb9f3a\"],[0.8888888888888888,\"#fdca26\"],[1.0,\"#f0f921\"]],\"type\":\"contour\"}],\"contourcarpet\":[{\"colorbar\":{\"outlinewidth\":0,\"ticks\":\"\"},\"type\":\"contourcarpet\"}],\"heatmap\":[{\"colorbar\":{\"outlinewidth\":0,\"ticks\":\"\"},\"colorscale\":[[0.0,\"#0d0887\"],[0.1111111111111111,\"#46039f\"],[0.2222222222222222,\"#7201a8\"],[0.3333333333333333,\"#9c179e\"],[0.4444444444444444,\"#bd3786\"],[0.5555555555555556,\"#d8576b\"],[0.6666666666666666,\"#ed7953\"],[0.7777777777777778,\"#fb9f3a\"],[0.8888888888888888,\"#fdca26\"],[1.0,\"#f0f921\"]],\"type\":\"heatmap\"}],\"heatmapgl\":[{\"colorbar\":{\"outlinewidth\":0,\"ticks\":\"\"},\"colorscale\":[[0.0,\"#0d0887\"],[0.1111111111111111,\"#46039f\"],[0.2222222222222222,\"#7201a8\"],[0.3333333333333333,\"#9c179e\"],[0.4444444444444444,\"#bd3786\"],[0.5555555555555556,\"#d8576b\"],[0.6666666666666666,\"#ed7953\"],[0.7777777777777778,\"#fb9f3a\"],[0.8888888888888888,\"#fdca26\"],[1.0,\"#f0f921\"]],\"type\":\"heatmapgl\"}],\"histogram\":[{\"marker\":{\"pattern\":{\"fillmode\":\"overlay\",\"size\":10,\"solidity\":0.2}},\"type\":\"histogram\"}],\"histogram2d\":[{\"colorbar\":{\"outlinewidth\":0,\"ticks\":\"\"},\"colorscale\":[[0.0,\"#0d0887\"],[0.1111111111111111,\"#46039f\"],[0.2222222222222222,\"#7201a8\"],[0.3333333333333333,\"#9c179e\"],[0.4444444444444444,\"#bd3786\"],[0.5555555555555556,\"#d8576b\"],[0.6666666666666666,\"#ed7953\"],[0.7777777777777778,\"#fb9f3a\"],[0.8888888888888888,\"#fdca26\"],[1.0,\"#f0f921\"]],\"type\":\"histogram2d\"}],\"histogram2dcontour\":[{\"colorbar\":{\"outlinewidth\":0,\"ticks\":\"\"},\"colorscale\":[[0.0,\"#0d0887\"],[0.1111111111111111,\"#46039f\"],[0.2222222222222222,\"#7201a8\"],[0.3333333333333333,\"#9c179e\"],[0.4444444444444444,\"#bd3786\"],[0.5555555555555556,\"#d8576b\"],[0.6666666666666666,\"#ed7953\"],[0.7777777777777778,\"#fb9f3a\"],[0.8888888888888888,\"#fdca26\"],[1.0,\"#f0f921\"]],\"type\":\"histogram2dcontour\"}],\"mesh3d\":[{\"colorbar\":{\"outlinewidth\":0,\"ticks\":\"\"},\"type\":\"mesh3d\"}],\"parcoords\":[{\"line\":{\"colorbar\":{\"outlinewidth\":0,\"ticks\":\"\"}},\"type\":\"parcoords\"}],\"pie\":[{\"automargin\":true,\"type\":\"pie\"}],\"scatter\":[{\"marker\":{\"colorbar\":{\"outlinewidth\":0,\"ticks\":\"\"}},\"type\":\"scatter\"}],\"scatter3d\":[{\"line\":{\"colorbar\":{\"outlinewidth\":0,\"ticks\":\"\"}},\"marker\":{\"colorbar\":{\"outlinewidth\":0,\"ticks\":\"\"}},\"type\":\"scatter3d\"}],\"scattercarpet\":[{\"marker\":{\"colorbar\":{\"outlinewidth\":0,\"ticks\":\"\"}},\"type\":\"scattercarpet\"}],\"scattergeo\":[{\"marker\":{\"colorbar\":{\"outlinewidth\":0,\"ticks\":\"\"}},\"type\":\"scattergeo\"}],\"scattergl\":[{\"marker\":{\"colorbar\":{\"outlinewidth\":0,\"ticks\":\"\"}},\"type\":\"scattergl\"}],\"scattermapbox\":[{\"marker\":{\"colorbar\":{\"outlinewidth\":0,\"ticks\":\"\"}},\"type\":\"scattermapbox\"}],\"scatterpolar\":[{\"marker\":{\"colorbar\":{\"outlinewidth\":0,\"ticks\":\"\"}},\"type\":\"scatterpolar\"}],\"scatterpolargl\":[{\"marker\":{\"colorbar\":{\"outlinewidth\":0,\"ticks\":\"\"}},\"type\":\"scatterpolargl\"}],\"scatterternary\":[{\"marker\":{\"colorbar\":{\"outlinewidth\":0,\"ticks\":\"\"}},\"type\":\"scatterternary\"}],\"surface\":[{\"colorbar\":{\"outlinewidth\":0,\"ticks\":\"\"},\"colorscale\":[[0.0,\"#0d0887\"],[0.1111111111111111,\"#46039f\"],[0.2222222222222222,\"#7201a8\"],[0.3333333333333333,\"#9c179e\"],[0.4444444444444444,\"#bd3786\"],[0.5555555555555556,\"#d8576b\"],[0.6666666666666666,\"#ed7953\"],[0.7777777777777778,\"#fb9f3a\"],[0.8888888888888888,\"#fdca26\"],[1.0,\"#f0f921\"]],\"type\":\"surface\"}],\"table\":[{\"cells\":{\"fill\":{\"color\":\"#EBF0F8\"},\"line\":{\"color\":\"white\"}},\"header\":{\"fill\":{\"color\":\"#C8D4E3\"},\"line\":{\"color\":\"white\"}},\"type\":\"table\"}]},\"layout\":{\"annotationdefaults\":{\"arrowcolor\":\"#2a3f5f\",\"arrowhead\":0,\"arrowwidth\":1},\"autotypenumbers\":\"strict\",\"coloraxis\":{\"colorbar\":{\"outlinewidth\":0,\"ticks\":\"\"}},\"colorscale\":{\"diverging\":[[0,\"#8e0152\"],[0.1,\"#c51b7d\"],[0.2,\"#de77ae\"],[0.3,\"#f1b6da\"],[0.4,\"#fde0ef\"],[0.5,\"#f7f7f7\"],[0.6,\"#e6f5d0\"],[0.7,\"#b8e186\"],[0.8,\"#7fbc41\"],[0.9,\"#4d9221\"],[1,\"#276419\"]],\"sequential\":[[0.0,\"#0d0887\"],[0.1111111111111111,\"#46039f\"],[0.2222222222222222,\"#7201a8\"],[0.3333333333333333,\"#9c179e\"],[0.4444444444444444,\"#bd3786\"],[0.5555555555555556,\"#d8576b\"],[0.6666666666666666,\"#ed7953\"],[0.7777777777777778,\"#fb9f3a\"],[0.8888888888888888,\"#fdca26\"],[1.0,\"#f0f921\"]],\"sequentialminus\":[[0.0,\"#0d0887\"],[0.1111111111111111,\"#46039f\"],[0.2222222222222222,\"#7201a8\"],[0.3333333333333333,\"#9c179e\"],[0.4444444444444444,\"#bd3786\"],[0.5555555555555556,\"#d8576b\"],[0.6666666666666666,\"#ed7953\"],[0.7777777777777778,\"#fb9f3a\"],[0.8888888888888888,\"#fdca26\"],[1.0,\"#f0f921\"]]},\"colorway\":[\"#636efa\",\"#EF553B\",\"#00cc96\",\"#ab63fa\",\"#FFA15A\",\"#19d3f3\",\"#FF6692\",\"#B6E880\",\"#FF97FF\",\"#FECB52\"],\"font\":{\"color\":\"#2a3f5f\"},\"geo\":{\"bgcolor\":\"white\",\"lakecolor\":\"white\",\"landcolor\":\"#E5ECF6\",\"showlakes\":true,\"showland\":true,\"subunitcolor\":\"white\"},\"hoverlabel\":{\"align\":\"left\"},\"hovermode\":\"closest\",\"mapbox\":{\"style\":\"light\"},\"paper_bgcolor\":\"white\",\"plot_bgcolor\":\"#E5ECF6\",\"polar\":{\"angularaxis\":{\"gridcolor\":\"white\",\"linecolor\":\"white\",\"ticks\":\"\"},\"bgcolor\":\"#E5ECF6\",\"radialaxis\":{\"gridcolor\":\"white\",\"linecolor\":\"white\",\"ticks\":\"\"}},\"scene\":{\"xaxis\":{\"backgroundcolor\":\"#E5ECF6\",\"gridcolor\":\"white\",\"gridwidth\":2,\"linecolor\":\"white\",\"showbackground\":true,\"ticks\":\"\",\"zerolinecolor\":\"white\"},\"yaxis\":{\"backgroundcolor\":\"#E5ECF6\",\"gridcolor\":\"white\",\"gridwidth\":2,\"linecolor\":\"white\",\"showbackground\":true,\"ticks\":\"\",\"zerolinecolor\":\"white\"},\"zaxis\":{\"backgroundcolor\":\"#E5ECF6\",\"gridcolor\":\"white\",\"gridwidth\":2,\"linecolor\":\"white\",\"showbackground\":true,\"ticks\":\"\",\"zerolinecolor\":\"white\"}},\"shapedefaults\":{\"line\":{\"color\":\"#2a3f5f\"}},\"ternary\":{\"aaxis\":{\"gridcolor\":\"white\",\"linecolor\":\"white\",\"ticks\":\"\"},\"baxis\":{\"gridcolor\":\"white\",\"linecolor\":\"white\",\"ticks\":\"\"},\"bgcolor\":\"#E5ECF6\",\"caxis\":{\"gridcolor\":\"white\",\"linecolor\":\"white\",\"ticks\":\"\"}},\"title\":{\"x\":0.05},\"xaxis\":{\"automargin\":true,\"gridcolor\":\"white\",\"linecolor\":\"white\",\"ticks\":\"\",\"title\":{\"standoff\":15},\"zerolinecolor\":\"white\",\"zerolinewidth\":2},\"yaxis\":{\"automargin\":true,\"gridcolor\":\"white\",\"linecolor\":\"white\",\"ticks\":\"\",\"title\":{\"standoff\":15},\"zerolinecolor\":\"white\",\"zerolinewidth\":2}}},\"xaxis\":{\"anchor\":\"y\",\"domain\":[0.0,1.0],\"title\":{\"text\":\"x\"}},\"yaxis\":{\"anchor\":\"x\",\"domain\":[0.0,1.0],\"title\":{\"text\":\"y\"}},\"legend\":{\"tracegroupgap\":0},\"margin\":{\"t\":60}},                        {\"responsive\": true}                    ).then(function(){\n",
              "                            \n",
              "var gd = document.getElementById('e431a634-0d65-47f7-bc9e-a54d81c82f1f');\n",
              "var x = new MutationObserver(function (mutations, observer) {{\n",
              "        var display = window.getComputedStyle(gd).display;\n",
              "        if (!display || display === 'none') {{\n",
              "            console.log([gd, 'removed!']);\n",
              "            Plotly.purge(gd);\n",
              "            observer.disconnect();\n",
              "        }}\n",
              "}});\n",
              "\n",
              "// Listen for the removal of the full notebook cells\n",
              "var notebookContainer = gd.closest('#notebook-container');\n",
              "if (notebookContainer) {{\n",
              "    x.observe(notebookContainer, {childList: true});\n",
              "}}\n",
              "\n",
              "// Listen for the clearing of the current output cell\n",
              "var outputEl = gd.closest('.output');\n",
              "if (outputEl) {{\n",
              "    x.observe(outputEl, {childList: true});\n",
              "}}\n",
              "\n",
              "                        })                };                            </script>        </div>\n",
              "</body>\n",
              "</html>"
            ]
          },
          "metadata": {}
        },
        {
          "output_type": "stream",
          "name": "stdout",
          "text": [
            "over damping\n",
            "over damped\n"
          ]
        },
        {
          "output_type": "display_data",
          "data": {
            "text/plain": [
              "<Figure size 432x288 with 1 Axes>"
            ],
            "image/png": "[encoded data removed]"
          },
          "metadata": {
            "needs_background": "light"
          }
        }
      ]
    },
    {
      "cell_type": "code",
      "source": [
        "#this is for under damped case\n",
        "A=1\n",
        "B=2\n",
        "C=9\n",
        "x0=100\n",
        "v0=-100"
      ],
      "metadata": {
        "id": "EY_gB3H_vkUw"
      },
      "execution_count": null,
      "outputs": []
    },
    {
      "cell_type": "code",
      "source": [
        "alpha=B/(2*A)\n",
        "bita=abs((((B**2)/4)-C/A)**1/2)\n",
        "lambda1=(-B-(B*2-4*A*C)*0.5)/2*A\n",
        "lambda2=(-B+(B*2-4*A*C)*0.5)/2*A\n",
        "lambda3=-B/(2*A)\n",
        "if lambda1 != lambda2 :\n",
        "\n",
        "\td1=(v0-lambda2*x0)/(lambda1-lambda2)\n",
        "\td2=(v0-lambda1*x0)/(lambda2-lambda1)\n",
        "t=0\n",
        "t1=[i/100 for i in range(1000)]\n"
      ],
      "metadata": {
        "id": "hlYJJ979v68X"
      },
      "execution_count": null,
      "outputs": []
    },
    {
      "cell_type": "code",
      "source": [
        "def under_damped():\n",
        "\t\"\"\"\n",
        "\treturns a list of roots of under damping equation\n",
        "\t\"\"\"\n",
        "\t# global x,t\n",
        "\tx1 = []\n",
        "\tfor i in t1:\n",
        "\t\tt=i\n",
        "\t\tx = math.exp( - alpha * t) * (x0 * math.cos(bita * t) + ((v0 + alpha * x0) * math.sin(bita * t) / bita))\n",
        "\t\tx1.append(x)\n",
        "\treturn x1"
      ],
      "metadata": {
        "id": "azg5-Eadwl_w"
      },
      "execution_count": null,
      "outputs": []
    },
    {
      "cell_type": "code",
      "source": [
        "fig=px.line(x=t1,y=about_damped())\n",
        "fig.show()\n",
        "print('under damping')\n",
        "plt.plot(t1, about_damped())\n",
        "plt.show()"
      ],
      "metadata": {
        "id": "WR2e5kLoxV64",
        "outputId": "7d58b30e-18f2-47af-ec18-37f736b51794",
        "colab": {
          "base_uri": "https://localhost:8080/",
          "height": 842
        }
      },
      "execution_count": null,
      "outputs": [
        {
          "output_type": "stream",
          "name": "stdout",
          "text": [
            "under damped\n"
          ]
        },
        {
          "output_type": "display_data",
          "data": {
            "text/html": [
              "<html>\n",
              "<head><meta charset=\"utf-8\" /></head>\n",
              "<body>\n",
              "    <div>            <script src=\"https://cdnjs.cloudflare.com/ajax/libs/mathjax/2.7.5/MathJax.js?config=TeX-AMS-MML_SVG\"></script><script type=\"text/javascript\">if (window.MathJax) {MathJax.Hub.Config({SVG: {font: \"STIX-Web\"}});}</script>                <script type=\"text/javascript\">window.PlotlyConfig = {MathJaxConfig: 'local'};</script>\n",
              "        <script src=\"https://cdn.plot.ly/plotly-2.8.3.min.js\"></script>                <div id=\"42fad556-730a-4e1c-802f-d5d9730e9bad\" class=\"plotly-graph-div\" style=\"height:525px; width:100%;\"></div>            <script type=\"text/javascript\">                                    window.PLOTLYENV=window.PLOTLYENV || {};                                    if (document.getElementById(\"42fad556-730a-4e1c-802f-d5d9730e9bad\")) {                    Plotly.newPlot(                        \"42fad556-730a-4e1c-802f-d5d9730e9bad\",                        [{\"hovertemplate\":\"x=%{x}<br>y=%{y}<extra></extra>\",\"legendgroup\":\"\",\"line\":{\"color\":\"#636efa\",\"dash\":\"solid\"},\"marker\":{\"symbol\":\"circle\"},\"mode\":\"lines\",\"name\":\"\",\"orientation\":\"v\",\"showlegend\":false,\"x\":[0.0,0.01,0.02,0.03,0.04,0.05,0.06,0.07,0.08,0.09,0.1,0.11,0.12,0.13,0.14,0.15,0.16,0.17,0.18,0.19,0.2,0.21,0.22,0.23,0.24,0.25,0.26,0.27,0.28,0.29,0.3,0.31,0.32,0.33,0.34,0.35,0.36,0.37,0.38,0.39,0.4,0.41,0.42,0.43,0.44,0.45,0.46,0.47,0.48,0.49,0.5,0.51,0.52,0.53,0.54,0.55,0.56,0.57,0.58,0.59,0.6,0.61,0.62,0.63,0.64,0.65,0.66,0.67,0.68,0.69,0.7,0.71,0.72,0.73,0.74,0.75,0.76,0.77,0.78,0.79,0.8,0.81,0.82,0.83,0.84,0.85,0.86,0.87,0.88,0.89,0.9,0.91,0.92,0.93,0.94,0.95,0.96,0.97,0.98,0.99,1.0,1.01,1.02,1.03,1.04,1.05,1.06,1.07,1.08,1.09,1.1,1.11,1.12,1.13,1.14,1.15,1.16,1.17,1.18,1.19,1.2,1.21,1.22,1.23,1.24,1.25,1.26,1.27,1.28,1.29,1.3,1.31,1.32,1.33,1.34,1.35,1.36,1.37,1.38,1.39,1.4,1.41,1.42,1.43,1.44,1.45,1.46,1.47,1.48,1.49,1.5,1.51,1.52,1.53,1.54,1.55,1.56,1.57,1.58,1.59,1.6,1.61,1.62,1.63,1.64,1.65,1.66,1.67,1.68,1.69,1.7,1.71,1.72,1.73,1.74,1.75,1.76,1.77,1.78,1.79,1.8,1.81,1.82,1.83,1.84,1.85,1.86,1.87,1.88,1.89,1.9,1.91,1.92,1.93,1.94,1.95,1.96,1.97,1.98,1.99,2.0,2.01,2.02,2.03,2.04,2.05,2.06,2.07,2.08,2.09,2.1,2.11,2.12,2.13,2.14,2.15,2.16,2.17,2.18,2.19,2.2,2.21,2.22,2.23,2.24,2.25,2.26,2.27,2.28,2.29,2.3,2.31,2.32,2.33,2.34,2.35,2.36,2.37,2.38,2.39,2.4,2.41,2.42,2.43,2.44,2.45,2.46,2.47,2.48,2.49,2.5,2.51,2.52,2.53,2.54,2.55,2.56,2.57,2.58,2.59,2.6,2.61,2.62,2.63,2.64,2.65,2.66,2.67,2.68,2.69,2.7,2.71,2.72,2.73,2.74,2.75,2.76,2.77,2.78,2.79,2.8,2.81,2.82,2.83,2.84,2.85,2.86,2.87,2.88,2.89,2.9,2.91,2.92,2.93,2.94,2.95,2.96,2.97,2.98,2.99,3.0,3.01,3.02,3.03,3.04,3.05,3.06,3.07,3.08,3.09,3.1,3.11,3.12,3.13,3.14,3.15,3.16,3.17,3.18,3.19,3.2,3.21,3.22,3.23,3.24,3.25,3.26,3.27,3.28,3.29,3.3,3.31,3.32,3.33,3.34,3.35,3.36,3.37,3.38,3.39,3.4,3.41,3.42,3.43,3.44,3.45,3.46,3.47,3.48,3.49,3.5,3.51,3.52,3.53,3.54,3.55,3.56,3.57,3.58,3.59,3.6,3.61,3.62,3.63,3.64,3.65,3.66,3.67,3.68,3.69,3.7,3.71,3.72,3.73,3.74,3.75,3.76,3.77,3.78,3.79,3.8,3.81,3.82,3.83,3.84,3.85,3.86,3.87,3.88,3.89,3.9,3.91,3.92,3.93,3.94,3.95,3.96,3.97,3.98,3.99,4.0,4.01,4.02,4.03,4.04,4.05,4.06,4.07,4.08,4.09,4.1,4.11,4.12,4.13,4.14,4.15,4.16,4.17,4.18,4.19,4.2,4.21,4.22,4.23,4.24,4.25,4.26,4.27,4.28,4.29,4.3,4.31,4.32,4.33,4.34,4.35,4.36,4.37,4.38,4.39,4.4,4.41,4.42,4.43,4.44,4.45,4.46,4.47,4.48,4.49,4.5,4.51,4.52,4.53,4.54,4.55,4.56,4.57,4.58,4.59,4.6,4.61,4.62,4.63,4.64,4.65,4.66,4.67,4.68,4.69,4.7,4.71,4.72,4.73,4.74,4.75,4.76,4.77,4.78,4.79,4.8,4.81,4.82,4.83,4.84,4.85,4.86,4.87,4.88,4.89,4.9,4.91,4.92,4.93,4.94,4.95,4.96,4.97,4.98,4.99,5.0,5.01,5.02,5.03,5.04,5.05,5.06,5.07,5.08,5.09,5.1,5.11,5.12,5.13,5.14,5.15,5.16,5.17,5.18,5.19,5.2,5.21,5.22,5.23,5.24,5.25,5.26,5.27,5.28,5.29,5.3,5.31,5.32,5.33,5.34,5.35,5.36,5.37,5.38,5.39,5.4,5.41,5.42,5.43,5.44,5.45,5.46,5.47,5.48,5.49,5.5,5.51,5.52,5.53,5.54,5.55,5.56,5.57,5.58,5.59,5.6,5.61,5.62,5.63,5.64,5.65,5.66,5.67,5.68,5.69,5.7,5.71,5.72,5.73,5.74,5.75,5.76,5.77,5.78,5.79,5.8,5.81,5.82,5.83,5.84,5.85,5.86,5.87,5.88,5.89,5.9,5.91,5.92,5.93,5.94,5.95,5.96,5.97,5.98,5.99,6.0,6.01,6.02,6.03,6.04,6.05,6.06,6.07,6.08,6.09,6.1,6.11,6.12,6.13,6.14,6.15,6.16,6.17,6.18,6.19,6.2,6.21,6.22,6.23,6.24,6.25,6.26,6.27,6.28,6.29,6.3,6.31,6.32,6.33,6.34,6.35,6.36,6.37,6.38,6.39,6.4,6.41,6.42,6.43,6.44,6.45,6.46,6.47,6.48,6.49,6.5,6.51,6.52,6.53,6.54,6.55,6.56,6.57,6.58,6.59,6.6,6.61,6.62,6.63,6.64,6.65,6.66,6.67,6.68,6.69,6.7,6.71,6.72,6.73,6.74,6.75,6.76,6.77,6.78,6.79,6.8,6.81,6.82,6.83,6.84,6.85,6.86,6.87,6.88,6.89,6.9,6.91,6.92,6.93,6.94,6.95,6.96,6.97,6.98,6.99,7.0,7.01,7.02,7.03,7.04,7.05,7.06,7.07,7.08,7.09,7.1,7.11,7.12,7.13,7.14,7.15,7.16,7.17,7.18,7.19,7.2,7.21,7.22,7.23,7.24,7.25,7.26,7.27,7.28,7.29,7.3,7.31,7.32,7.33,7.34,7.35,7.36,7.37,7.38,7.39,7.4,7.41,7.42,7.43,7.44,7.45,7.46,7.47,7.48,7.49,7.5,7.51,7.52,7.53,7.54,7.55,7.56,7.57,7.58,7.59,7.6,7.61,7.62,7.63,7.64,7.65,7.66,7.67,7.68,7.69,7.7,7.71,7.72,7.73,7.74,7.75,7.76,7.77,7.78,7.79,7.8,7.81,7.82,7.83,7.84,7.85,7.86,7.87,7.88,7.89,7.9,7.91,7.92,7.93,7.94,7.95,7.96,7.97,7.98,7.99,8.0,8.01,8.02,8.03,8.04,8.05,8.06,8.07,8.08,8.09,8.1,8.11,8.12,8.13,8.14,8.15,8.16,8.17,8.18,8.19,8.2,8.21,8.22,8.23,8.24,8.25,8.26,8.27,8.28,8.29,8.3,8.31,8.32,8.33,8.34,8.35,8.36,8.37,8.38,8.39,8.4,8.41,8.42,8.43,8.44,8.45,8.46,8.47,8.48,8.49,8.5,8.51,8.52,8.53,8.54,8.55,8.56,8.57,8.58,8.59,8.6,8.61,8.62,8.63,8.64,8.65,8.66,8.67,8.68,8.69,8.7,8.71,8.72,8.73,8.74,8.75,8.76,8.77,8.78,8.79,8.8,8.81,8.82,8.83,8.84,8.85,8.86,8.87,8.88,8.89,8.9,8.91,8.92,8.93,8.94,8.95,8.96,8.97,8.98,8.99,9.0,9.01,9.02,9.03,9.04,9.05,9.06,9.07,9.08,9.09,9.1,9.11,9.12,9.13,9.14,9.15,9.16,9.17,9.18,9.19,9.2,9.21,9.22,9.23,9.24,9.25,9.26,9.27,9.28,9.29,9.3,9.31,9.32,9.33,9.34,9.35,9.36,9.37,9.38,9.39,9.4,9.41,9.42,9.43,9.44,9.45,9.46,9.47,9.48,9.49,9.5,9.51,9.52,9.53,9.54,9.55,9.56,9.57,9.58,9.59,9.6,9.61,9.62,9.63,9.64,9.65,9.66,9.67,9.68,9.69,9.7,9.71,9.72,9.73,9.74,9.75,9.76,9.77,9.78,9.79,9.8,9.81,9.82,9.83,9.84,9.85,9.86,9.87,9.88,9.89,9.9,9.91,9.92,9.93,9.94,9.95,9.96,9.97,9.98,9.99],\"xaxis\":\"x\",\"y\":[100.0,98.92578994818523,97.70637100677375,96.34667063327718,94.85175479103403,93.22681668123084,91.47716548391904,89.60821512679651,87.62547310010534,85.53452933555526,83.3410451667205,81.05074238787516,78.6693924277304,76.2028056540174,73.65682082432429,71.037294698044,68.3500918237246,65.60107451553532,62.79609303197209,59.940975969326054,57.04152088182873,54.103485139770704,51.132577036266234,48.134447152706464,45.11467999230961,42.0787858905393,39.0321932105223,35.980240830956575,32.92817093335966,29.88112209486834,26.844122692163218,23.82208462145789,20.819797338862593,17.841922224807842,14.892987275595333,11.977382124531845,9.099353394498761,6.263000383215654,3.472271081870899,0.730958527218684,-1.9573025133218596,-4.589038524580665,-7.160939896117884,-9.669863246351182,-12.112833420920108,-14.487045168374824,-16.78986449675877,-19.01882971512096,-21.171652164444062,-23.246216642908028,-25.240581530826372,-27.15297862099159,-28.981812660548574,-30.725660610879004,-32.38327063232626,-33.95356080091763,-35.435617564550455,-36.82869394639908,-38.132207503571635,-39.34573804929788,-40.4690251471644,-41.501965386127324,-42.44460944522943,-43.29715895712563,-44.059963179678654,-44.733515485027084,-45.31844967564808,-45.81553613704056,-46.22567783673806,-46.54990617942776,-46.78937672799985,-46.94536480038337,-47.01926095203765,-47.012566353966236,-46.926888076100255,-46.76393428586231,-46.525509371670985,-46.213509001078414,-45.82991512315207,-45.37679092461514,-44.856275749149034,-44.270579989138064,-43.621979958998224,-42.912812759082335,-42.145471138991724,-41.32239836895023,-40.446083127712214,-39.51905441527969,-38.54387649849895,-37.523143897391385,-36.45947641984927,-35.355514252094906,-34.21391311206101,-33.03733947260263,-31.828465861196754,-30.589966242524667,-29.324511490067025,-28.03476495256918,-26.723378120959673,-25.392986401024675,-24.04620499685837,-22.685624909823392,-21.3138090574673,-19.933288516551183,-18.546558894055348,-17.156076829735063,-15.76425663350731,-14.37346706065752,-12.98602822756422,-11.604208670349589,-10.230222548575743,-8.866226995820425,-7.514319618682414,-6.176536145486387,-4.854848225679743,-3.551161380641303,-2.2673131063516396,-1.0050711281114024,0.23386819276621237,1.4478813006167608,2.6354187360162884,3.795006276122974,4.925245925824786,6.024816760979409,7.092475625256133,8.12705768230592,9.127476825195048,10.092725945239739,11.021877062573372,11.914081320964419,12.768568849581888,13.58464849457546,14.36170742349992,15.099210605767434,15.796700172456793,16.45379465894591,17.070188133962354,17.645649218766717,18.180020000294874,18.673214842188028,19.125219097733236,19.536087728822856,19.905943835117835,20.234977097668246,20.52344214130406,20.77165682016057,20.98000043074568,21.14891185699104,21.278887651755525,21.37048005926786,21.424294983005993,21.440989903513366,21.421271750647417,21.36589473474347,21.275658141157304,21.15140409262315,20.99401528383,20.80441269257885,20.583553271836365,20.332427626947286,20.05205768220838,19.74349434094145,19.407815143131966,19.046121924623385,18.65953848177565,18.249208245409797,17.816291967769143,17.36196542613201,16.887417146610673,16.393846151567427,15.882459733970945,15.354471261904942,14.81109801632681,14.25355906505665,13.683073175857057,13.100856771341652,12.508121928325748,11.906074424105938,11.295911832027254,10.678821668566835,10.055979594032237,9.428547668840755,8.797672667213636,8.164484449986123,7.530094398101126,6.895593908221135,6.262052951760034,5.630518698504028,5.002014205858952,4.377537174630283,3.7580587721124634,3.144522523135043,2.537843269586443,1.938906198810301,1.3485659411457327,0.7676457367610877,0.19693667181122215,-0.36280301616897187,-0.9108485638368031,-1.4465092388939993,-1.9691288286425437,-2.478086060774291,-2.9727949570281815,-3.4527051204489396,-3.917301957079091,-4.366106833008908,-4.798677167800649,-5.214606465389077,-5.613524283644972,-5.9950961438667685,-6.359023381542744,-6.705042939797253,-7.032927107004087,-7.342483200113579,-7.6335531953017846,-7.906013307605965,-8.159773521264357,-8.3947770725263,-8.610999886744652,-8.80844997160271,-8.987166768365636,-9.147220463079078,-9.2887112596675,-9.411768616909677,-9.516550451290971,-9.603242307749333,-9.672056500346507,-9.723231224905962,-9.757029645666034,-9.77373895799984,-9.773669429253209,-9.757153419748056,-9.724544385991475,-9.676215868120416,-9.61256046359804,-9.533988789161187,-9.44092843299848,-9.333822899115864,-9.213130545820816,-9.079323520227991,-8.932886690658338,-8.77431657876982,-8.60412029322238,-8.422814466641045,-8.230924197601057,-8.028981999315835,-7.817526756664555,-7.597102693149097,-7.368258349322549,-7.1315455741809535,-6.887518530959325,-6.636732718719476,-6.37974401106379,-6.117107713253427,-5.849377638953186,-5.5771052077683745,-5.300838564680355,-5.021121722429425,-4.738493727833482,-4.453487852971926,-4.166630812103129,-3.8784420051241906,-3.5894327883201322,-3.3001057730898133,-3.0109541532743505,-2.7224610616541,-2.4350989561191407,-2.1493290359591075,-1.8656006886578627,-1.5843509675203566,-1.3060041003998382,-1.030971029736744,-0.7596489840629113,-0.4924210810695533,-0.22965596228159652,0.028292540672291554,0.2810857082583593,0.5284002038206199,0.7699283131143937,1.005378152806322,1.2344738482042057,1.4569556805272001,1.6725802040713242,1.8811203336695583,2.0823654028872336,2.2761211934345575,2.4622099363164325,2.640470285277544,2.810757263135736,2.9729421816310837,3.1269125354497405,3.272571871112494,3.409839631446176,3.5386509763833685,3.6589565808604894,3.7707224106080686,3.8739294766480903,3.968573569333367,4.054664972781452,4.132228160572024,4.201301473590722,4.261936780915225,4.314199124649947,4.358166349624932,4.393928718881865,4.421588515875613,4.441259634323925,4.453067156639988,4.457146921883441,4.453645084164431,4.442717662432926,4.424530082581515,4.399256712784467,4.367080392988971,4.328191959466128,4.282789765319678,4.231079197839372,4.173272193573777,4.1095867519836675,4.040246448522637,3.9654799479756213,3.8855205188693187,3.8006055497503497,3.7109760681083253,3.61687626270094,3.5185530100177127,3.4162554055971857,3.310234300890332,3.200741846339707,3.088031041320145,2.972355291562656,2.853967974657994,2.733122014211262,2.6100694631927452,2.485061097004201,2.3583460167528782,2.2301712631989474,2.1007814418145117,1.9704183593653082,1.8393206723983617,1.7077235479915602,1.5758583370930845,1.4439522607513122,1.3122281095077928,1.1809039561987213,1.050192882382537,0.9203027185844012,0.7914357985209197,0.6637887274420705,0.5375521647004652,0.4129106206323182,0.29004226780837966,0.16911876668806838,0.05030510568494888,-0.06624054437271427,-0.18036696142630945,-0.2919299890797834,-0.4007926392872091,-0.5068251809436497,-0.6099052145092094,-0.7099177328174008,-0.8067551682389178,-0.9003174263917685,-0.9905119066072966,-1.077253509380038,-1.1604646310464792,-1.2400751459546895,-1.3160223764023993,-1.3882510506364414,-1.4567132492205228,-1.5213683400920106,-1.582182902640897,-1.6391306411561803,-1.6921922879957683,-1.7413554968464298,-1.7866147264495753,-1.8279711151774056,-1.8654323468516152,-1.8990125082038964,-1.9287319383836419,-1.9546170709235315,-1.9767002685783548,-1.9950196514560905,-2.009618918863328,-2.020547165289288,-2.027858690954194,-2.031612807348443,-2.0318736381890248,-2.028709916218891,-2.0221947762735564,-2.0124055450370895,-1.999423527906855,-1.9833337933829471,-1.9642249553941644,-1.9421889539677129,-1.9173208346445296,-1.8897185270362924,-1.8594826229137542,-1.8267161542091634,-1.7915243713080191,-1.7540145219975949,-1.7142956314311726,-1.6724782834582097,-1.628674403661359,-1.5829970444316954,-1.535560172403424,-1.4864784585591413,-1.4358670713059423,-1.3838414728118142,-1.330517218880435,-1.2760097626311837,-1.2204342622393218,-1.1639053929795617,-1.1065371638040304,-1.0484427386736186,-0.989734262849193,-0.9305226943368472,-0.8709176406687077,-0.8110272011884279,-0.7509578149976972,-0.690814114707624,-0.6306987861260762,-0.5707124339996785,-0.5109534539164281,-0.45151791046257733,-0.39249942171490143,-0.3339890501373934,-0.2760751999390986,-0.21884352093790876,-0.1623768189633,-0.10675497281924097,-0.052054857817211246,0.0016497241221617245,0.05428810781122605,0.10579282160449058,0.15609963770853547,0.20514761603675227,0.2528791416628783,0.2992399559371173,0.3441791813378849,0.3876493401414687,0.429606367000547,0.47000961553107495,0.5088218590150172,0.5460092853343195,0.5815414862588324,0.6153914412180643,0.6475354956932381,0.6779533343725891,0.706627949218744,0.7335456026027042,0.7586957856641152,0.7820711720624576,0.8036675672882435,0.8234838537074339,0.8415219315160701,0.8577866557854366,0.8722857697811381,0.8850298347420739,0.8960321563075961,0.9053087077830171,0.9128780504352184,0.9187612510112978,0.9229817966740522,0.925565507548589,0.926540447074552,0.9259368303582742,0.9237869307186974,0.9201249846200894,0.9149870951834951,0.908411134467442,0.9004366447067127,0.8911047386960277,0.8804579995032072,0.8685403796938648,0.8553971002468824,0.8410745493369249,0.825620181156944,0.8090824149501569,0.791510534417275,0.7729545876608142,0.7534652878242626,0.7330939145795367,0.7118922166117284,0.6899123152454789,0.6672066093525864,0.6438276816754842,0.6198282066962185,0.5952608601753352,0.5701782304798867,0.5446327318143205,0.5186765194626191,0.4923614071444664,0.4657387865827031,0.4388595493736074,0.41177401124591284,0.3845318387886864,0.35718197872253543,0.3297725897827741,0.3023509772774867,0.27496353037761545,0.2476556621905553,0.22047175266295133,0.1934550943527768,0.16664784110514533,0.14009095966069812,0.11382418421997982,0.08788597398169645,0.062313473667453836,0.03714247704023531,0.012407393418778504,-0.011858782815155846,-0.03562449972454465,-0.05885967235274104,-0.08153570430450977,-0.10362550639468038,-0.12510351239107517,-0.14594569188278744,-0.16612956030903672,-0.1856341861879797,-0.20444019558873364,-0.2225297738937024,-0.2398866649018609,-0.25649616732718583,-0.27234512874968736,-0.28742193707968566,-0.3017165095989089,-0.31522027964485977,-0.32792618100751775,-0.3398286301099284,-0.35092350604656636,-0.36120812855546264,-0.37068123400209696,-0.37934294945482966,-0.38719476493330396,-0.3942395039126842,-0.4004812921679138,-0.40592552504328966,-0.4105788332336214,-0.4144490471640234,-0.41754516005604275,-0.41987728976828453,-0.4214566395000223,-0.42229545744643615,-0.4224069954941332,-0.42180546704546684,-0.42050600405987837,-0.41852461340006225,-0.4158781325701814,-0.4125841849326626,-0.4086611344892528,-0.40412804031107313,-0.3990046107013,-0.39331115717291093,-0.387068548322609,-0.3802981636805958,-0.3730218476143508,-0.36526186336290833,-0.35704084727641544,-0.3483817633338991,-0.33930785801029123,-0.3298426155617378,-0.32000971379616605,-0.30983298039392243,-0.2993363498411108,-0.2885438210359625,-0.27747941562626494,-0.26616713713346907,-0.25463093091670885,-0.2428946450274594,-0.23098199200308808,-0.21891651164498693,-0.20672153482444988,-0.19442014835683957,-0.1820351609820135,-0.16958907048633826,-0.1571040319990383,-0.14460182749296205,-0.1321038365172491,-0.1196310081867631,-0.10720383445052699,-0.09484232465884235,-0.08256598144615983,-0.07039377794424655,-0.05834413633763852,-0.04643490777090936,-0.03468335361478391,-0.023106128095728987,-0.011719262291238692,-0.0005381494907258313,0.010422468080401691,0.021148511178118865,0.031626574105476944,0.041843933935577324,0.051788558402907844,0.06144911247611839,0.07081496362729824,0.07987618581468081,0.08862356219756344,0.09704858660396701,0.10514346377327564,0.11290110839768959,0.12031514298790096,0.1273798945898623,0.13409039038092016,0.14044235217492393,0.1464321898671487,0.1520569938510666,0.1573145264400795,0.16220321232836182,0.16672212812588177,0.17087099100355424,0.17465014648524854,0.17806055542409507,0.18110378020115342,0.18378197018507045,0.1860978464918293,0.18805468608409875,0.189656305250014,0.1909070425014838,0.1918117409322963,0.19237573007641054,0.19260480730685942,0.19250521881566524,0.1920836402150718,0.19134715680023784,0.19030324351331032,0.18895974464850876,0.1873248533375026,0.18540709085395626,0.18321528577564886,0.1807585530420584,0.17804627294472197,0.17508807008706226,0.17189379234968813,0.16847348989646574,0.16483739425587793,0.16099589751138904,0.15695953163367043,0.15273894798666643,0.1483448970385412,0.14378820830759823,0.13907977057226195,0.13423051237320446,0.1292513828346385,0.12415333283073786,0.11894729652203782,0.11364417328557108,0.10825481006134413,0.10278998413662506,0.09726038638833691,0.09167660500269671,0.0860491096900402,0.08038823641159402,0.07470417263376378,0.06900694312429935,0.06330639630352197,0.05761219116258224,0.051933784759542655,0.0462804203028773,0.040661115830821035,0.03508465349381277,0.02955956944613309,0.024094144351676623,0.018696394507685742,0.013374063589139128,0.00813461501540418,0.0029852249396701913,-0.0020672241393624438,-0.00701614914511514,-0.011855271572664793,-0.016578622023758392,-0.02118054413183628,-0.025655697882544327,-0.029999062336112114,-0.034205937758865955,-0.03827194717198168,-0.04219303732641617,-0.04596547911373734,-0.04958586742332965,-0.053051120457182674,-0.056358478514150115,-0.05950550225623545,-0.06249007047007472,-0.06531037733738393,-0.0679649292286823,-0.0704525410351309,-0.07277233205380308,-0.07492372144215713,-0.07690642325788713,-0.07872044110071222,-0.08036606237300195,-0.08184385217644616,-0.08315464686224425,-0.08429954725253125,-0.08527991155095675,-0.086097347960504,-0.0867537070267674,-0.08725107372501179,-0.08759175930940237,-0.0877782929428323,-0.08781341312577709,-0.0877000589425808,-0.08744136114351946,-0.08704063308090229,-0.08650136151735344,-0.08582719732427424,-0.08502194608831405,-0.08408955864347901,-0.08303412154628428,-0.08185984751110727,-0.08057106582262555,-0.07917221274192869,-0.0776678219225726,-0.07606251485251077,-0.07436099133747284,-0.07256802004098689,-0.07068842909584129,-0.06872709680137423,-0.06668894242054432,-0.06457891709029595,-0.06240199485826958,-0.06016316385844319,-0.05786741763780096,-0.05551974664563739,-0.05312512989659527,-0.05068852681803185,-0.04821486929177969,-0.04570905389984717,-0.043175934383070276,-0.040620314321187616,-0.03804694004227631,-0.03546049376893674,-0.03286558700807467,-0.03026675419057774,-0.02766844656664644,-0.025075026361986844,-0.022490761199536885,-0.01991981879085218,-0.01736626190075001,-0.014834043588270845,-0.012327002726497518,-0.009848859803246337,-0.007403213004139815,-0.004993534579057667,-0.0026231674924722145,-0.0002953223576805461,0.001986925345524503,0.004220637770678138,0.006403016923346765,0.008531406600546455,0.01060329405313919,0.01261631137389765,0.01456823661433371,0.01645699463378118,0.01828065768460817,0.02003744573779581,0.02172572655347924,0.02334401550138024,0.024890975136388726,0.02636541453485261,0.027766288397433635,0.02909269592465975,0.030343879471569093,0.03151922298808154,0.032618250251967296,0.03364062290149172,0.0345861382750155,0.035454727065006415,0.036246450794087136,0.03696149912088943,0.03760018698362003,0.038162951589357036,0.038650349257199665,0.039063052123476875,0.03940184471729184,0.03966762041473182,0.03986137778011383,0.039984216802659886,0.040037335037005635,0.04002202365594183,0.03993966342376904,0.039791720598614064,0.039579742772010665,0.039305354653987996,0.03897025381183933,0.03857620637065906,0.038125042683640864,0.037618652980021414,0.03705898299843722,0.036448029613331094,0.03578783646190683,0.0350804895789795,0.03432811304691234,0.03353286466766091,0.03269693166377117,0.03182252641499167,0.030911882236970688,0.029967249208307914,0.028990890052026527,0.027985076077317844,0.026952083187196156,0.02589418795747606,0.024813663792259105,0.023712777160884473,0.02259378392106318,0.021458925732678127,0.020310426566486826,0.019150489311727043,0.01798129248637285,0.016804987053545987,0.01562369334733785,0.014439498111049089,0.013254451650604838,0.01207056510565671,0.010889807840630403,0.009714104957738553,0.008545334933725954,0.007385327381875354,0.00623586094055959,0.005098661289387541,0.003975399293755776,0.0028676892783869755,0.0017770874302034307,0.0007050903306663775,-0.00034686638251554407,-0.0013774092246169965,-0.0023852279445866244,-0.0033690764779242934,-0.004327773772672199,-0.005260204489642478,-0.006165319578192226,-0.007042136729043767,-0.007889740705819494,-0.008707283557137445,-0.009493984711274746,-0.010249130955565101,-0.0109720763028474,-0.01166224174742686,-0.012319114913146492,-0.012942249596299254,-0.013531265206230046,-0.014085846106596593,-0.0146057408603642,-0.01509076138171119,-0.015540781998115679,-0.015955738425980543,-0.016335626663232204,-0.016680501802401913,-0.01699047676776007,-0.017265720980133778,-0.01750645895308611,-0.017712968824178717,-0.017885580825074972,-0.018024675694269226,-0.01813068303624953,-0.018204079630915682,-0.018245387697082963,-0.018255173113902554,-0.01823404360402554,-0.018182646882325182,-0.018101668773975153,-0.01799183130565744,-0.01785389077364423,-0.017688635792463072,-0.017496885327813266,-0.01727948671735609,-0.017037313682949508,-0.016771264337841957,-0.016482259192278734,-0.016171239160908634,-0.01583916357530854,-0.015487008204869552,-0.015115763289208814,-0.014726431585191237,-0.01432002643155754,-0.013897569834067284,-0.01346009057397314,-0.01300862234254756,-0.012544201904285348,-0.012067867291305328,-0.011580656031372425,-0.01108360341185519,-0.010577740781830386,-0.010064093894435423,-0.009543681291461733,-0.009017512732071156,-0.008486587667405844,-0.00795189376274998,-0.007414405468789187,-0.006875082643398507,-0.006334869225279579,-0.0057946919606510945,-0.005255459184085318,-0.004718059654470178,-0.004183361446964253,-0.0036522109017005457,-0.00312543162988511,-0.0026038235778252285,-0.0020881621493170585,-0.001579197386712668,-0.001077653210883245,-0.0005842267201912127,-9.958754848253984e-05,0.0003756227179890149,0.0008407910648914937,0.001295333515678546,0.0017386955393623865,0.002170352400658316,0.0025898094530538967,0.002996602375439273,0.0033902973530180454,0.0037704912032975823,0.004136811448034309,0.004488916332082652,0.004826494790168305,0.005149266362671558,0.005456981061573107,0.005749419187774358,0.006026391101062588,0.006287736944045778,0.00653332632143319,0.0067630579360854,0.006976859183302911,0.007174685704862186,0.007356520904347312,0.007522375425359058,0.007672286594214567,0.007806317828778665,0.007924558015092308,0.008027120853484884,0.008114144175874947,0.008185789235979036,0.008242239974159194,0.008283702258648794,0.008310403104901215,0.008322589874808358,0.008320529457535182,0.008304507433712869,0.00827482722472668,0.00823180922882528,0.00817578994576633,0.008107121091698453,0.008026168705962396,0.007933312251474636,0.007828943710334347,0.007713466676270341,0.007587295445517949,0.007450854107686566,0.0073045756381484046,0.007148900993445443,0.006984278211177218,0.006811161515795518,0.006630010431693819,0.006441288904939596,0.006245464434956344,0.00604300721741977,0.00583438929958798,0.005620083749241593,0.005400563838362392,0.005176302242632597,0.004947770257788591,0.004715437033814196,0.004479768827908892,0.004241228277116683,0.004000273691449716,0.0037573583682912553,0.0035129299288098035,0.0032674296770655153,0.0030212919824380334,0.002774943685953282,0.0025288035310350033,0.002283281619155636,0.0020387788908089043,0.0017956866321770604,0.001554386007813534,0.0013152476196125668,0.0010786310922874585,0.0008448846855301079,0.0006143449329762166,0.0003873363080528955,0.00016417091673895078,-5.4851782778615846e-05,-0.0002694452336118902,-0.00047933600694848136,-0.0006842640022445431,-0.0008839826210239049,-0.0010782589145134694,-0.001266873705384527,-0.0014496216839076576,-0.0016263114788665437,-0.0017967657036104935,-0.0019608209776609637,-0.00211832792431959,-0.002269151144756968,-0.002413169169091522,-0.0025502743849964305,-0.0026803729443995836,-0.002803384648867736,-0.0029192428142893402],\"yaxis\":\"y\",\"type\":\"scatter\"}],                        {\"template\":{\"data\":{\"bar\":[{\"error_x\":{\"color\":\"#2a3f5f\"},\"error_y\":{\"color\":\"#2a3f5f\"},\"marker\":{\"line\":{\"color\":\"#E5ECF6\",\"width\":0.5},\"pattern\":{\"fillmode\":\"overlay\",\"size\":10,\"solidity\":0.2}},\"type\":\"bar\"}],\"barpolar\":[{\"marker\":{\"line\":{\"color\":\"#E5ECF6\",\"width\":0.5},\"pattern\":{\"fillmode\":\"overlay\",\"size\":10,\"solidity\":0.2}},\"type\":\"barpolar\"}],\"carpet\":[{\"aaxis\":{\"endlinecolor\":\"#2a3f5f\",\"gridcolor\":\"white\",\"linecolor\":\"white\",\"minorgridcolor\":\"white\",\"startlinecolor\":\"#2a3f5f\"},\"baxis\":{\"endlinecolor\":\"#2a3f5f\",\"gridcolor\":\"white\",\"linecolor\":\"white\",\"minorgridcolor\":\"white\",\"startlinecolor\":\"#2a3f5f\"},\"type\":\"carpet\"}],\"choropleth\":[{\"colorbar\":{\"outlinewidth\":0,\"ticks\":\"\"},\"type\":\"choropleth\"}],\"contour\":[{\"colorbar\":{\"outlinewidth\":0,\"ticks\":\"\"},\"colorscale\":[[0.0,\"#0d0887\"],[0.1111111111111111,\"#46039f\"],[0.2222222222222222,\"#7201a8\"],[0.3333333333333333,\"#9c179e\"],[0.4444444444444444,\"#bd3786\"],[0.5555555555555556,\"#d8576b\"],[0.6666666666666666,\"#ed7953\"],[0.7777777777777778,\"#fb9f3a\"],[0.8888888888888888,\"#fdca26\"],[1.0,\"#f0f921\"]],\"type\":\"contour\"}],\"contourcarpet\":[{\"colorbar\":{\"outlinewidth\":0,\"ticks\":\"\"},\"type\":\"contourcarpet\"}],\"heatmap\":[{\"colorbar\":{\"outlinewidth\":0,\"ticks\":\"\"},\"colorscale\":[[0.0,\"#0d0887\"],[0.1111111111111111,\"#46039f\"],[0.2222222222222222,\"#7201a8\"],[0.3333333333333333,\"#9c179e\"],[0.4444444444444444,\"#bd3786\"],[0.5555555555555556,\"#d8576b\"],[0.6666666666666666,\"#ed7953\"],[0.7777777777777778,\"#fb9f3a\"],[0.8888888888888888,\"#fdca26\"],[1.0,\"#f0f921\"]],\"type\":\"heatmap\"}],\"heatmapgl\":[{\"colorbar\":{\"outlinewidth\":0,\"ticks\":\"\"},\"colorscale\":[[0.0,\"#0d0887\"],[0.1111111111111111,\"#46039f\"],[0.2222222222222222,\"#7201a8\"],[0.3333333333333333,\"#9c179e\"],[0.4444444444444444,\"#bd3786\"],[0.5555555555555556,\"#d8576b\"],[0.6666666666666666,\"#ed7953\"],[0.7777777777777778,\"#fb9f3a\"],[0.8888888888888888,\"#fdca26\"],[1.0,\"#f0f921\"]],\"type\":\"heatmapgl\"}],\"histogram\":[{\"marker\":{\"pattern\":{\"fillmode\":\"overlay\",\"size\":10,\"solidity\":0.2}},\"type\":\"histogram\"}],\"histogram2d\":[{\"colorbar\":{\"outlinewidth\":0,\"ticks\":\"\"},\"colorscale\":[[0.0,\"#0d0887\"],[0.1111111111111111,\"#46039f\"],[0.2222222222222222,\"#7201a8\"],[0.3333333333333333,\"#9c179e\"],[0.4444444444444444,\"#bd3786\"],[0.5555555555555556,\"#d8576b\"],[0.6666666666666666,\"#ed7953\"],[0.7777777777777778,\"#fb9f3a\"],[0.8888888888888888,\"#fdca26\"],[1.0,\"#f0f921\"]],\"type\":\"histogram2d\"}],\"histogram2dcontour\":[{\"colorbar\":{\"outlinewidth\":0,\"ticks\":\"\"},\"colorscale\":[[0.0,\"#0d0887\"],[0.1111111111111111,\"#46039f\"],[0.2222222222222222,\"#7201a8\"],[0.3333333333333333,\"#9c179e\"],[0.4444444444444444,\"#bd3786\"],[0.5555555555555556,\"#d8576b\"],[0.6666666666666666,\"#ed7953\"],[0.7777777777777778,\"#fb9f3a\"],[0.8888888888888888,\"#fdca26\"],[1.0,\"#f0f921\"]],\"type\":\"histogram2dcontour\"}],\"mesh3d\":[{\"colorbar\":{\"outlinewidth\":0,\"ticks\":\"\"},\"type\":\"mesh3d\"}],\"parcoords\":[{\"line\":{\"colorbar\":{\"outlinewidth\":0,\"ticks\":\"\"}},\"type\":\"parcoords\"}],\"pie\":[{\"automargin\":true,\"type\":\"pie\"}],\"scatter\":[{\"marker\":{\"colorbar\":{\"outlinewidth\":0,\"ticks\":\"\"}},\"type\":\"scatter\"}],\"scatter3d\":[{\"line\":{\"colorbar\":{\"outlinewidth\":0,\"ticks\":\"\"}},\"marker\":{\"colorbar\":{\"outlinewidth\":0,\"ticks\":\"\"}},\"type\":\"scatter3d\"}],\"scattercarpet\":[{\"marker\":{\"colorbar\":{\"outlinewidth\":0,\"ticks\":\"\"}},\"type\":\"scattercarpet\"}],\"scattergeo\":[{\"marker\":{\"colorbar\":{\"outlinewidth\":0,\"ticks\":\"\"}},\"type\":\"scattergeo\"}],\"scattergl\":[{\"marker\":{\"colorbar\":{\"outlinewidth\":0,\"ticks\":\"\"}},\"type\":\"scattergl\"}],\"scattermapbox\":[{\"marker\":{\"colorbar\":{\"outlinewidth\":0,\"ticks\":\"\"}},\"type\":\"scattermapbox\"}],\"scatterpolar\":[{\"marker\":{\"colorbar\":{\"outlinewidth\":0,\"ticks\":\"\"}},\"type\":\"scatterpolar\"}],\"scatterpolargl\":[{\"marker\":{\"colorbar\":{\"outlinewidth\":0,\"ticks\":\"\"}},\"type\":\"scatterpolargl\"}],\"scatterternary\":[{\"marker\":{\"colorbar\":{\"outlinewidth\":0,\"ticks\":\"\"}},\"type\":\"scatterternary\"}],\"surface\":[{\"colorbar\":{\"outlinewidth\":0,\"ticks\":\"\"},\"colorscale\":[[0.0,\"#0d0887\"],[0.1111111111111111,\"#46039f\"],[0.2222222222222222,\"#7201a8\"],[0.3333333333333333,\"#9c179e\"],[0.4444444444444444,\"#bd3786\"],[0.5555555555555556,\"#d8576b\"],[0.6666666666666666,\"#ed7953\"],[0.7777777777777778,\"#fb9f3a\"],[0.8888888888888888,\"#fdca26\"],[1.0,\"#f0f921\"]],\"type\":\"surface\"}],\"table\":[{\"cells\":{\"fill\":{\"color\":\"#EBF0F8\"},\"line\":{\"color\":\"white\"}},\"header\":{\"fill\":{\"color\":\"#C8D4E3\"},\"line\":{\"color\":\"white\"}},\"type\":\"table\"}]},\"layout\":{\"annotationdefaults\":{\"arrowcolor\":\"#2a3f5f\",\"arrowhead\":0,\"arrowwidth\":1},\"autotypenumbers\":\"strict\",\"coloraxis\":{\"colorbar\":{\"outlinewidth\":0,\"ticks\":\"\"}},\"colorscale\":{\"diverging\":[[0,\"#8e0152\"],[0.1,\"#c51b7d\"],[0.2,\"#de77ae\"],[0.3,\"#f1b6da\"],[0.4,\"#fde0ef\"],[0.5,\"#f7f7f7\"],[0.6,\"#e6f5d0\"],[0.7,\"#b8e186\"],[0.8,\"#7fbc41\"],[0.9,\"#4d9221\"],[1,\"#276419\"]],\"sequential\":[[0.0,\"#0d0887\"],[0.1111111111111111,\"#46039f\"],[0.2222222222222222,\"#7201a8\"],[0.3333333333333333,\"#9c179e\"],[0.4444444444444444,\"#bd3786\"],[0.5555555555555556,\"#d8576b\"],[0.6666666666666666,\"#ed7953\"],[0.7777777777777778,\"#fb9f3a\"],[0.8888888888888888,\"#fdca26\"],[1.0,\"#f0f921\"]],\"sequentialminus\":[[0.0,\"#0d0887\"],[0.1111111111111111,\"#46039f\"],[0.2222222222222222,\"#7201a8\"],[0.3333333333333333,\"#9c179e\"],[0.4444444444444444,\"#bd3786\"],[0.5555555555555556,\"#d8576b\"],[0.6666666666666666,\"#ed7953\"],[0.7777777777777778,\"#fb9f3a\"],[0.8888888888888888,\"#fdca26\"],[1.0,\"#f0f921\"]]},\"colorway\":[\"#636efa\",\"#EF553B\",\"#00cc96\",\"#ab63fa\",\"#FFA15A\",\"#19d3f3\",\"#FF6692\",\"#B6E880\",\"#FF97FF\",\"#FECB52\"],\"font\":{\"color\":\"#2a3f5f\"},\"geo\":{\"bgcolor\":\"white\",\"lakecolor\":\"white\",\"landcolor\":\"#E5ECF6\",\"showlakes\":true,\"showland\":true,\"subunitcolor\":\"white\"},\"hoverlabel\":{\"align\":\"left\"},\"hovermode\":\"closest\",\"mapbox\":{\"style\":\"light\"},\"paper_bgcolor\":\"white\",\"plot_bgcolor\":\"#E5ECF6\",\"polar\":{\"angularaxis\":{\"gridcolor\":\"white\",\"linecolor\":\"white\",\"ticks\":\"\"},\"bgcolor\":\"#E5ECF6\",\"radialaxis\":{\"gridcolor\":\"white\",\"linecolor\":\"white\",\"ticks\":\"\"}},\"scene\":{\"xaxis\":{\"backgroundcolor\":\"#E5ECF6\",\"gridcolor\":\"white\",\"gridwidth\":2,\"linecolor\":\"white\",\"showbackground\":true,\"ticks\":\"\",\"zerolinecolor\":\"white\"},\"yaxis\":{\"backgroundcolor\":\"#E5ECF6\",\"gridcolor\":\"white\",\"gridwidth\":2,\"linecolor\":\"white\",\"showbackground\":true,\"ticks\":\"\",\"zerolinecolor\":\"white\"},\"zaxis\":{\"backgroundcolor\":\"#E5ECF6\",\"gridcolor\":\"white\",\"gridwidth\":2,\"linecolor\":\"white\",\"showbackground\":true,\"ticks\":\"\",\"zerolinecolor\":\"white\"}},\"shapedefaults\":{\"line\":{\"color\":\"#2a3f5f\"}},\"ternary\":{\"aaxis\":{\"gridcolor\":\"white\",\"linecolor\":\"white\",\"ticks\":\"\"},\"baxis\":{\"gridcolor\":\"white\",\"linecolor\":\"white\",\"ticks\":\"\"},\"bgcolor\":\"#E5ECF6\",\"caxis\":{\"gridcolor\":\"white\",\"linecolor\":\"white\",\"ticks\":\"\"}},\"title\":{\"x\":0.05},\"xaxis\":{\"automargin\":true,\"gridcolor\":\"white\",\"linecolor\":\"white\",\"ticks\":\"\",\"title\":{\"standoff\":15},\"zerolinecolor\":\"white\",\"zerolinewidth\":2},\"yaxis\":{\"automargin\":true,\"gridcolor\":\"white\",\"linecolor\":\"white\",\"ticks\":\"\",\"title\":{\"standoff\":15},\"zerolinecolor\":\"white\",\"zerolinewidth\":2}}},\"xaxis\":{\"anchor\":\"y\",\"domain\":[0.0,1.0],\"title\":{\"text\":\"x\"}},\"yaxis\":{\"anchor\":\"x\",\"domain\":[0.0,1.0],\"title\":{\"text\":\"y\"}},\"legend\":{\"tracegroupgap\":0},\"margin\":{\"t\":60}},                        {\"responsive\": true}                    ).then(function(){\n",
              "                            \n",
              "var gd = document.getElementById('42fad556-730a-4e1c-802f-d5d9730e9bad');\n",
              "var x = new MutationObserver(function (mutations, observer) {{\n",
              "        var display = window.getComputedStyle(gd).display;\n",
              "        if (!display || display === 'none') {{\n",
              "            console.log([gd, 'removed!']);\n",
              "            Plotly.purge(gd);\n",
              "            observer.disconnect();\n",
              "        }}\n",
              "}});\n",
              "\n",
              "// Listen for the removal of the full notebook cells\n",
              "var notebookContainer = gd.closest('#notebook-container');\n",
              "if (notebookContainer) {{\n",
              "    x.observe(notebookContainer, {childList: true});\n",
              "}}\n",
              "\n",
              "// Listen for the clearing of the current output cell\n",
              "var outputEl = gd.closest('.output');\n",
              "if (outputEl) {{\n",
              "    x.observe(outputEl, {childList: true});\n",
              "}}\n",
              "\n",
              "                        })                };                            </script>        </div>\n",
              "</body>\n",
              "</html>"
            ]
          },
          "metadata": {}
        },
        {
          "output_type": "stream",
          "name": "stdout",
          "text": [
            "under damping\n",
            "under damped\n"
          ]
        },
        {
          "output_type": "display_data",
          "data": {
            "text/plain": [
              "<Figure size 432x288 with 1 Axes>"
            ],
            "image/png": "[encoded data removed]"
          },
          "metadata": {
            "needs_background": "light"
          }
        }
      ]
    }
  ]
}